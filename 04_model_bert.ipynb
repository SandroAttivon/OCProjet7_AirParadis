{
 "cells": [
  {
   "cell_type": "markdown",
   "id": "b0f7c86d",
   "metadata": {},
   "source": [
    "# 🤖 04 - Modèle avancé BERT (Transformers HuggingFace)\n",
    "Ce notebook permet d'entraîner un modèle BERT pour la classification de sentiment."
   ]
  },
  {
   "cell_type": "code",
   "execution_count": null,
   "id": "b35e1603",
   "metadata": {},
   "outputs": [],
   "source": [
    "import pandas as pd\n",
    "import numpy as np\n",
    "from sklearn.model_selection import train_test_split\n",
    "from sklearn.metrics import classification_report\n",
    "from transformers import BertTokenizerFast, TFBertForSequenceClassification\n",
    "import tensorflow as tf\n",
    "import mlflow\n",
    "import mlflow.transformers"
   ]
  },
  {
   "cell_type": "markdown",
   "id": "a85dacc6",
   "metadata": {},
   "source": [
    "## 📥 Chargement des données nettoyées"
   ]
  },
  {
   "cell_type": "code",
   "execution_count": null,
   "id": "922e7a9c",
   "metadata": {},
   "outputs": [],
   "source": [
    "df = pd.read_csv(\"../data/processed/tweets_clean.csv\")\n",
    "X = df['clean_text']\n",
    "y = df['sentiment']\n",
    "\n",
    "X_train, X_test, y_train, y_test = train_test_split(\n",
    "    X, y, test_size=0.2, stratify=y, random_state=42\n",
    ")"
   ]
  },
  {
   "cell_type": "markdown",
   "id": "934c062e",
   "metadata": {},
   "source": [
    "## 🔠 Tokenisation avec `bert-base-uncased`"
   ]
  },
  {
   "cell_type": "code",
   "execution_count": null,
   "id": "adf27c7c",
   "metadata": {},
   "outputs": [],
   "source": [
    "tokenizer = BertTokenizerFast.from_pretrained('bert-base-uncased')\n",
    "\n",
    "train_encodings = tokenizer(list(X_train), truncation=True, padding=True, max_length=64)\n",
    "test_encodings = tokenizer(list(X_test), truncation=True, padding=True, max_length=64)"
   ]
  },
  {
   "cell_type": "markdown",
   "id": "bebd0b74",
   "metadata": {},
   "source": [
    "## 🔄 Conversion en TensorFlow Dataset"
   ]
  },
  {
   "cell_type": "code",
   "execution_count": null,
   "id": "7bc81d2a",
   "metadata": {},
   "outputs": [],
   "source": [
    "train_dataset = tf.data.Dataset.from_tensor_slices((\n",
    "    dict(train_encodings),\n",
    "    y_train.values\n",
    ")).batch(16)\n",
    "\n",
    "test_dataset = tf.data.Dataset.from_tensor_slices((\n",
    "    dict(test_encodings),\n",
    "    y_test.values\n",
    ")).batch(16)"
   ]
  },
  {
   "cell_type": "markdown",
   "id": "e8f31a48",
   "metadata": {},
   "source": [
    "## 🧠 Entraînement du modèle BERT"
   ]
  },
  {
   "cell_type": "code",
   "execution_count": null,
   "id": "4c958201",
   "metadata": {},
   "outputs": [],
   "source": [
    "with mlflow.start_run(run_name=\"BERT_base_sentiment\"):\n",
    "\n",
    "    model = TFBertForSequenceClassification.from_pretrained(\"bert-base-uncased\", num_labels=2)\n",
    "\n",
    "    optimizer = tf.keras.optimizers.Adam(learning_rate=5e-5)\n",
    "    loss = tf.keras.losses.SparseCategoricalCrossentropy(from_logits=True)\n",
    "    metric = tf.keras.metrics.SparseCategoricalAccuracy(\"accuracy\")\n",
    "\n",
    "    model.compile(optimizer=optimizer, loss=loss, metrics=[metric])\n",
    "\n",
    "    model.fit(train_dataset, validation_data=test_dataset, epochs=2)\n",
    "\n",
    "    # Évaluation\n",
    "    loss, acc = model.evaluate(test_dataset)\n",
    "    print(f\"✅ Accuracy test : {acc:.4f}\")\n",
    "\n",
    "    mlflow.log_param(\"model\", \"bert-base-uncased\")\n",
    "    mlflow.log_metric(\"test_accuracy\", acc)\n",
    "    mlflow.transformers.log_model(transformers_model=model, artifact_path=\"model\", tokenizer=tokenizer)"
   ]
  },
  {
   "cell_type": "markdown",
   "id": "5287c103",
   "metadata": {},
   "source": [
    "## 🧾 Évaluation détaillée"
   ]
  },
  {
   "cell_type": "code",
   "execution_count": null,
   "id": "202d66d5",
   "metadata": {},
   "outputs": [],
   "source": [
    "y_probs = model.predict(test_dataset).logits\n",
    "y_preds = np.argmax(y_probs, axis=1)\n",
    "\n",
    "print(classification_report(y_test, y_preds))"
   ]
  }
 ],
 "metadata": {},
 "nbformat": 4,
 "nbformat_minor": 5
}