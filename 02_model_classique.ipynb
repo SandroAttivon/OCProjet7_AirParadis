{
 "cells": [
  {
   "cell_type": "markdown",
   "id": "ace4661e",
   "metadata": {},
   "source": [
    "# 🤖 02 - Modèle classique : TF-IDF + Régression Logistique\n",
    "Ce notebook entraîne un modèle de base pour la classification du sentiment à partir des tweets nettoyés."
   ]
  },
  {
   "cell_type": "code",
   "execution_count": null,
   "id": "b34c1ca2",
   "metadata": {},
   "outputs": [],
   "source": [
    "import pandas as pd\n",
    "from sklearn.model_selection import train_test_split\n",
    "from sklearn.feature_extraction.text import TfidfVectorizer\n",
    "from sklearn.linear_model import LogisticRegression\n",
    "from sklearn.metrics import classification_report, confusion_matrix\n",
    "import mlflow\n",
    "import mlflow.sklearn\n",
    "import matplotlib.pyplot as plt\n",
    "import seaborn as sns"
   ]
  },
  {
   "cell_type": "markdown",
   "id": "ac558801",
   "metadata": {},
   "source": [
    "## 📥 Chargement des données nettoyées"
   ]
  },
  {
   "cell_type": "code",
   "execution_count": null,
   "id": "59e482de",
   "metadata": {},
   "outputs": [],
   "source": [
    "df = pd.read_csv(\"../data/processed/tweets_clean.csv\")\n",
    "X = df['clean_text']\n",
    "y = df['sentiment']\n",
    "\n",
    "X_train, X_test, y_train, y_test = train_test_split(\n",
    "    X, y, test_size=0.2, stratify=y, random_state=42\n",
    ")"
   ]
  },
  {
   "cell_type": "markdown",
   "id": "f875ddfd",
   "metadata": {},
   "source": [
    "## 🧪 Vectorisation avec TF-IDF"
   ]
  },
  {
   "cell_type": "code",
   "execution_count": null,
   "id": "f96eff37",
   "metadata": {},
   "outputs": [],
   "source": [
    "vectorizer = TfidfVectorizer(max_features=10000)\n",
    "X_train_vec = vectorizer.fit_transform(X_train)\n",
    "X_test_vec = vectorizer.transform(X_test)"
   ]
  },
  {
   "cell_type": "markdown",
   "id": "3293bf55",
   "metadata": {},
   "source": [
    "## 🚀 Entraînement du modèle avec MLflow"
   ]
  },
  {
   "cell_type": "code",
   "execution_count": null,
   "id": "4e7db0b3",
   "metadata": {},
   "outputs": [],
   "source": [
    "with mlflow.start_run(run_name=\"TFIDF_LogisticRegression\"):\n",
    "\n",
    "    model = LogisticRegression(max_iter=200)\n",
    "    model.fit(X_train_vec, y_train)\n",
    "    \n",
    "    y_pred = model.predict(X_test_vec)\n",
    "\n",
    "    acc = model.score(X_test_vec, y_test)\n",
    "    report = classification_report(y_test, y_pred, output_dict=True)\n",
    "    \n",
    "    # Log paramètres, métriques, modèle\n",
    "    mlflow.log_param(\"vectorizer\", \"TF-IDF\")\n",
    "    mlflow.log_param(\"model\", \"LogisticRegression\")\n",
    "    mlflow.log_metric(\"accuracy\", acc)\n",
    "    mlflow.log_metrics({\n",
    "        \"precision_neg\": report[\"0\"][\"precision\"],\n",
    "        \"recall_neg\": report[\"0\"][\"recall\"],\n",
    "        \"f1_neg\": report[\"0\"][\"f1-score\"],\n",
    "        \"precision_pos\": report[\"1\"][\"precision\"],\n",
    "        \"recall_pos\": report[\"1\"][\"recall\"],\n",
    "        \"f1_pos\": report[\"1\"][\"f1-score\"]\n",
    "    })\n",
    "\n",
    "    mlflow.sklearn.log_model(model, \"model\")\n",
    "    mlflow.log_artifact(\"\")\n",
    "\n",
    "    print(\"✅ Modèle entraîné et loggé avec MLflow\")"
   ]
  },
  {
   "cell_type": "markdown",
   "id": "3c057e4a",
   "metadata": {},
   "source": [
    "## 📊 Matrice de confusion"
   ]
  },
  {
   "cell_type": "code",
   "execution_count": null,
   "id": "168ef777",
   "metadata": {},
   "outputs": [],
   "source": [
    "cm = confusion_matrix(y_test, y_pred)\n",
    "sns.heatmap(cm, annot=True, fmt='d', cmap='Blues')\n",
    "plt.xlabel(\"Prédiction\")\n",
    "plt.ylabel(\"Réel\")\n",
    "plt.title(\"Matrice de confusion\")\n",
    "plt.show()"
   ]
  },
  {
   "cell_type": "markdown",
   "id": "adf2dc72",
   "metadata": {},
   "source": [
    "## 🧾 Rapport"
   ]
  },
  {
   "cell_type": "code",
   "execution_count": null,
   "id": "fcae143d",
   "metadata": {},
   "outputs": [],
   "source": [
    "print(classification_report(y_test, y_pred))"
   ]
  }
 ],
 "metadata": {},
 "nbformat": 4,
 "nbformat_minor": 5
}