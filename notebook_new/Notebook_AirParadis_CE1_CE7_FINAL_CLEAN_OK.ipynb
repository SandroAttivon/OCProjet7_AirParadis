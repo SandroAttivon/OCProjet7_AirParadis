{
 "cells": [
  {
   "cell_type": "markdown",
   "id": "4aecf57c",
   "metadata": {},
   "source": [
    "# 🧠 Notebook complet - Approches avancées Air Paradis"
   ]
  },
  {
   "cell_type": "markdown",
   "id": "199b062c",
   "metadata": {},
   "source": [
    "Ce notebook couvre les prétraitements, embeddings, modèles Keras (dense, LSTM), BERT et Universal Sentence Encoder selon les critères CE1 à CE7."
   ]
  },
  {
   "cell_type": "code",
   "execution_count": 1,
   "id": "e5cd9aa0",
   "metadata": {},
   "outputs": [
    {
     "data": {
      "text/markdown": [
       "\n",
       "- [1. Import du jeu de données et vérification de l'équilibrage](#1.-Import-du-jeu-de-données-et-vérification-de-l'équilibrage)\n",
       "- [2. Prétraitement du texte (nettoyage + stemming/lemmatisation)](#2.-Prétraitement-du-texte-(nettoyage-+-stemming/lemmatisation))\n",
       "- [3.1 Baseline : TF-IDF + Régression Logistique](#3.1-Baseline-:-TF-IDF-+-Régression-Logistique)\n",
       "- [3.2 Baseline : LSTM (Keras)](#3.2-Baseline-:-LSTM-(Keras))\n",
       "- [4. Embeddings Word2Vec, GloVe, FastText](#4.-Embeddings-Word2Vec,-GloVe,-FastText)\n",
       "  - [4.1 Chargement des embeddings GloVe et FastText](#4.1-Chargement-des-embeddings-GloVe-et-FastText)\n",
       "- [5. Modèles Keras avec embeddings](#5.-Modèles-Keras-avec-embeddings)\n",
       "  - [5.0 Intégration GloVe et FastText dans Keras](#5.0-Intégration-GloVe-et-FastText-dans-Keras)\n",
       "  - [5.1 Modèle Keras avec Word2Vec](#5.1-Modèle-Keras-avec-Word2Vec)\n",
       "  - [5.2 Modèle Keras avec GloVe](#5.2-Modèle-Keras-avec-GloVe)\n",
       "  - [5.3 Modèle Keras avec FastText](#5.3-Modèle-Keras-avec-FastText)\n",
       "- [6. BERT - Fine-tuning HuggingFace](#6.-BERT---Fine-tuning-HuggingFace)\n",
       "- [7. Universal Sentence Encoder](#7.-Universal-Sentence-Encoder)\n",
       "- [8. Synthèse comparative des modèles](#8.-Synthèse-comparative-des-modèles)\n"
      ],
      "text/plain": [
       "<IPython.core.display.Markdown object>"
      ]
     },
     "metadata": {},
     "output_type": "display_data"
    }
   ],
   "source": [
    "# 📚 Table des matières automatique\n",
    "from IPython.display import display, Markdown\n",
    "display(Markdown('''\n",
    "- [1. Import du jeu de données et vérification de l'équilibrage](#1.-Import-du-jeu-de-données-et-vérification-de-l'équilibrage)\n",
    "- [2. Prétraitement du texte (nettoyage + stemming/lemmatisation)](#2.-Prétraitement-du-texte-(nettoyage-+-stemming/lemmatisation))\n",
    "- [3.1 Baseline : TF-IDF + Régression Logistique](#3.1-Baseline-:-TF-IDF-+-Régression-Logistique)\n",
    "- [3.2 Baseline : LSTM (Keras)](#3.2-Baseline-:-LSTM-(Keras))\n",
    "- [4. Embeddings Word2Vec, GloVe, FastText](#4.-Embeddings-Word2Vec,-GloVe,-FastText)\n",
    "  - [4.1 Chargement des embeddings GloVe et FastText](#4.1-Chargement-des-embeddings-GloVe-et-FastText)\n",
    "- [5. Modèles Keras avec embeddings](#5.-Modèles-Keras-avec-embeddings)\n",
    "  - [5.0 Intégration GloVe et FastText dans Keras](#5.0-Intégration-GloVe-et-FastText-dans-Keras)\n",
    "  - [5.1 Modèle Keras avec Word2Vec](#5.1-Modèle-Keras-avec-Word2Vec)\n",
    "  - [5.2 Modèle Keras avec GloVe](#5.2-Modèle-Keras-avec-GloVe)\n",
    "  - [5.3 Modèle Keras avec FastText](#5.3-Modèle-Keras-avec-FastText)\n",
    "- [6. BERT - Fine-tuning HuggingFace](#6.-BERT---Fine-tuning-HuggingFace)\n",
    "- [7. Universal Sentence Encoder](#7.-Universal-Sentence-Encoder)\n",
    "- [8. Synthèse comparative des modèles](#8.-Synthèse-comparative-des-modèles)\n",
    "'''))\n"
   ]
  },
  {
   "cell_type": "code",
   "execution_count": 2,
   "id": "dc919a2a",
   "metadata": {},
   "outputs": [
    {
     "name": "stderr",
     "output_type": "stream",
     "text": [
      "2025/04/24 09:19:09 INFO mlflow.tracking.fluent: Experiment with name 'sentiment_analysis' does not exist. Creating a new experiment.\n"
     ]
    },
    {
     "data": {
      "text/plain": [
       "<Experiment: artifact_location='mlflow-artifacts:/750608397458522352', creation_time=1745500749339, experiment_id='750608397458522352', last_update_time=1745500749339, lifecycle_stage='active', name='sentiment_analysis', tags={}>"
      ]
     },
     "execution_count": 2,
     "metadata": {},
     "output_type": "execute_result"
    }
   ],
   "source": [
    "import mlflow\n",
    "\n",
    "mlflow.set_tracking_uri(\"http://localhost:8080\")\n",
    "\n",
    "mlflow.set_experiment(\"sentiment_analysis\")\n"
   ]
  },
  {
   "cell_type": "code",
   "execution_count": null,
   "id": "a59b9a6d",
   "metadata": {},
   "outputs": [
    {
     "name": "stdout",
     "output_type": "stream",
     "text": [
      "🧠 Version TF : 2.18.0\n",
      "🚀 GPU détecté : []\n",
      "\n",
      "🔍 Fichier cuDNN (cudnn64_8.dll) présent ?\n",
      "➡️ True\n",
      "\n",
      "📦 Tentative de chargement de la DLL cuDNN...\n",
      "✅ cuDNN chargé avec succès !\n"
     ]
    }
   ],
   "source": [
    "# import tensorflow as tf\n",
    "# import ctypes\n",
    "# from pathlib import Path\n",
    "\n",
    "# print(\"🧠 Version TF :\", tf.__version__)\n",
    "# print(\"🚀 GPU détecté :\", tf.config.list_physical_devices('GPU'))\n",
    "\n",
    "# # Vérification du fichier cuDNN\n",
    "# cudnn_path = \"C:/Program Files/NVIDIA GPU Computing Toolkit/CUDA/v12.2/bin/cudnn64_8.dll\"\n",
    "# print(\"\\n🔍 Fichier cuDNN (cudnn64_8.dll) présent ?\")\n",
    "# print(\"➡️\", Path(cudnn_path).exists())\n",
    "\n",
    "# print(\"\\n📦 Tentative de chargement de la DLL cuDNN...\")\n",
    "\n",
    "# try:\n",
    "#     ctypes.WinDLL(cudnn_path)\n",
    "#     print(\"✅ cuDNN chargé avec succès !\")\n",
    "# except Exception as e:\n",
    "#     print(\"❌ Erreur lors du chargement de cuDNN :\", e)\n"
   ]
  },
  {
   "cell_type": "code",
   "execution_count": 3,
   "id": "0fe0f8b1",
   "metadata": {},
   "outputs": [],
   "source": [
    "# # 📊 Évaluation du modèle avec métriques + efficacité\n",
    "# # 🔍 Fonction d'évaluation étendue : performances + légèreté\n",
    "# import tempfile\n",
    "# import time\n",
    "# import joblib\n",
    "# import os\n",
    "# import numpy as np\n",
    "# from sklearn.metrics import accuracy_score, f1_score, recall_score, classification_report\n",
    "# from tensorflow.keras.models import save_model\n",
    "\n",
    "# def eval_model_extended(model, X_val, y_val, model_name=\"Modèle\", keras=False):\n",
    "#     print(f\"\\n📌 Évaluation du modèle : {model_name}\")\n",
    "#     print(\"-------------------------------------\")\n",
    "\n",
    "#     # Inference & timing\n",
    "#     start = time.time()\n",
    "#     y_pred = model.predict(X_val)\n",
    "#     # elapsed = (time.time() - start) / len(X_val) * 1000  # ms/tweet\n",
    "#     elapsed = (time.time() - start) / X_val.shape[0] * 1000  # ms/tweet\n",
    "\n",
    "#     y_pred_label = (y_pred > 0.5).astype(int)\n",
    "#     acc = accuracy_score(y_val, y_pred_label)\n",
    "#     f1 = f1_score(y_val, y_pred_label)\n",
    "#     rec = recall_score(y_val, y_pred_label)\n",
    "\n",
    "#     print(f\"✅ Accuracy : {acc:.4f}\")\n",
    "#     print(f\"✅ F1-score : {f1:.4f}\")\n",
    "#     print(f\"✅ Recall : {rec:.4f}\")\n",
    "\n",
    "#     # Taille du modèle\n",
    "#     tmp_path = tempfile.mktemp(suffix=\".h5\")\n",
    "#     # tmp_path = tempfile.mktemp()\n",
    "#     if keras:\n",
    "#         # save_model(model, tmp_path, save_format='h5')\n",
    "#         save_model(model, tmp_path + \".h5\")\n",
    "#     else:\n",
    "#         joblib.dump(model, tmp_path)\n",
    "\n",
    "#     # Attendre que le fichier existe avant de le mesurer\n",
    "#     if os.path.exists(tmp_path):    \n",
    "#         size_mb = os.path.getsize(tmp_path) / 1024 / 1024\n",
    "#         os.remove(tmp_path)  # Supprimer le fichier temporaire après la mesure\n",
    "#         print(f\"💾 Taille du modèle : {size_mb:.2f} Mo\")\n",
    "#         print(f\"⚡ Temps d'inférence moyen : {elapsed:.2f} ms / tweet\")\n",
    "#     else:\n",
    "#         print(\"❗ Le fichier de modèle n’a pas été généré. Impossible de mesurer sa taille.\")\n",
    "        \n",
    "#     # Nombre de paramètres\n",
    "#     try:\n",
    "#         if keras:\n",
    "#             print(f\"🧠 Nb paramètres : {model.count_params()}\")\n",
    "#         elif hasattr(model, 'num_parameters'):\n",
    "#             print(f\"🧠 Nb paramètres : {model.num_parameters()}\")\n",
    "#     except:\n",
    "#         pass\n"
   ]
  },
  {
   "cell_type": "markdown",
   "id": "84c8184a",
   "metadata": {},
   "source": [
    "## 1. Import du jeu de données et vérification de l'équilibrage"
   ]
  },
  {
   "cell_type": "code",
   "execution_count": 1,
   "id": "ae6ac9da",
   "metadata": {},
   "outputs": [
    {
     "data": {
      "text/html": [
       "<div>\n",
       "<style scoped>\n",
       "    .dataframe tbody tr th:only-of-type {\n",
       "        vertical-align: middle;\n",
       "    }\n",
       "\n",
       "    .dataframe tbody tr th {\n",
       "        vertical-align: top;\n",
       "    }\n",
       "\n",
       "    .dataframe thead th {\n",
       "        text-align: right;\n",
       "    }\n",
       "</style>\n",
       "<table border=\"1\" class=\"dataframe\">\n",
       "  <thead>\n",
       "    <tr style=\"text-align: right;\">\n",
       "      <th></th>\n",
       "      <th>text</th>\n",
       "      <th>sentiment</th>\n",
       "    </tr>\n",
       "  </thead>\n",
       "  <tbody>\n",
       "    <tr>\n",
       "      <th>0</th>\n",
       "      <td>@switchfoot http://twitpic.com/2y1zl - Awww, t...</td>\n",
       "      <td>0</td>\n",
       "    </tr>\n",
       "    <tr>\n",
       "      <th>1</th>\n",
       "      <td>is upset that he can't update his Facebook by ...</td>\n",
       "      <td>0</td>\n",
       "    </tr>\n",
       "    <tr>\n",
       "      <th>2</th>\n",
       "      <td>@Kenichan I dived many times for the ball. Man...</td>\n",
       "      <td>0</td>\n",
       "    </tr>\n",
       "    <tr>\n",
       "      <th>3</th>\n",
       "      <td>my whole body feels itchy and like its on fire</td>\n",
       "      <td>0</td>\n",
       "    </tr>\n",
       "    <tr>\n",
       "      <th>4</th>\n",
       "      <td>@nationwideclass no, it's not behaving at all....</td>\n",
       "      <td>0</td>\n",
       "    </tr>\n",
       "  </tbody>\n",
       "</table>\n",
       "</div>"
      ],
      "text/plain": [
       "                                                text  sentiment\n",
       "0  @switchfoot http://twitpic.com/2y1zl - Awww, t...          0\n",
       "1  is upset that he can't update his Facebook by ...          0\n",
       "2  @Kenichan I dived many times for the ball. Man...          0\n",
       "3    my whole body feels itchy and like its on fire           0\n",
       "4  @nationwideclass no, it's not behaving at all....          0"
      ]
     },
     "execution_count": 1,
     "metadata": {},
     "output_type": "execute_result"
    }
   ],
   "source": [
    "# 📥 Chargement du fichier CSV d'origine\n",
    "# Chargement du fichier CSV d'origine fourni (colonnes : target, id, date, flag, user, text)\n",
    "import pandas as pd\n",
    "\n",
    "input_path = 'C:/Users/sandr/OneDrive/Documents/JOB/OPENCLASSROOMS/AI_ENGINEER/Projet_7_Réalisez_une_analyse_de_sentiments_grâce_au_Deep_Learning/Workspace/'\n",
    "\n",
    "raw_df = pd.read_csv(input_path + \"data/raw/training.1600000.processed.noemoticon.csv\", encoding=\"latin-1\", header=None)\n",
    "\n",
    "raw_df.columns = [\"sentiment\", \"id\", \"date\", \"flag\", \"user\", \"text\"]\n",
    "raw_df['sentiment'] = raw_df['sentiment'].replace({0: 0, 4: 1})  # 0: négatif, 4: positif\n",
    "\n",
    "# On extrait uniquement le texte et le label\n",
    "df = raw_df[[\"text\", \"sentiment\"]].copy()\n",
    "df.head()\n"
   ]
  },
  {
   "cell_type": "code",
   "execution_count": 2,
   "id": "0d1d864f",
   "metadata": {},
   "outputs": [
    {
     "data": {
      "image/png": "[encoded data removed]",
      "text/plain": [
       "<Figure size 640x480 with 1 Axes>"
      ]
     },
     "metadata": {},
     "output_type": "display_data"
    },
    {
     "name": "stdout",
     "output_type": "stream",
     "text": [
      "Répartition (%):\n",
      "sentiment\n",
      "0    50.0\n",
      "1    50.0\n",
      "Name: proportion, dtype: float64\n"
     ]
    }
   ],
   "source": [
    "# %pip install seaborn\n",
    "\n",
    "import matplotlib.pyplot as plt\n",
    "import seaborn as sns\n",
    "\n",
    "sns.countplot(data=df, x='sentiment')\n",
    "plt.title(\"Répartition des tweets par sentiment\")\n",
    "plt.xticks([0,1], ['Négatif', 'Positif'])\n",
    "plt.show()\n",
    "\n",
    "counts = df['sentiment'].value_counts(normalize=True)\n",
    "print(\"Répartition (%):\")\n",
    "print(counts * 100)\n"
   ]
  },
  {
   "cell_type": "markdown",
   "id": "a07d3e81",
   "metadata": {},
   "source": [
    "## 3. Echantillonnage stratifié"
   ]
  },
  {
   "cell_type": "code",
   "execution_count": 3,
   "id": "db1376df",
   "metadata": {},
   "outputs": [
    {
     "name": "stdout",
     "output_type": "stream",
     "text": [
      "Échantillon stratifié : 1000 tweets\n"
     ]
    }
   ],
   "source": [
    "# # 🚦 Détection RAM et définition de SAMPLE_SIZE\n",
    "# import psutil\n",
    "from sklearn.model_selection import train_test_split\n",
    "\n",
    "# total_ram_gb = psutil.virtual_memory().total / 1024**3\n",
    "# if total_ram_gb < 4:\n",
    "#     SAMPLE_SIZE = 5000\n",
    "# elif total_ram_gb < 8:\n",
    "#     SAMPLE_SIZE = 10000\n",
    "# elif total_ram_gb < 12:\n",
    "#     SAMPLE_SIZE = 20000\n",
    "# else:\n",
    "#     SAMPLE_SIZE = 30000\n",
    "\n",
    "# print(f\"💡 RAM détectée : {total_ram_gb:.1f} Go - SAMPLE_SIZE sélectionné : {SAMPLE_SIZE}\")\n",
    "\n",
    "SAMPLE_SIZE = 1000  # Pour tests rapides\n",
    "\n",
    "# 🎯 Échantillonnage stratifié unique (commune à tous les modèles)\n",
    "df_sample, _ = train_test_split(\n",
    "    df,\n",
    "    train_size=SAMPLE_SIZE,\n",
    "    stratify=df['sentiment'],\n",
    "    random_state=42\n",
    ")\n",
    "\n",
    "print(f\"Échantillon stratifié : {df_sample.shape[0]} tweets\")\n"
   ]
  },
  {
   "cell_type": "markdown",
   "id": "14a354bf",
   "metadata": {},
   "source": [
    "Vérifions l'équilibre de l'échantillon."
   ]
  },
  {
   "cell_type": "code",
   "execution_count": 4,
   "id": "883bc71c",
   "metadata": {},
   "outputs": [
    {
     "data": {
      "image/png": "[encoded data removed]",
      "text/plain": [
       "<Figure size 640x480 with 1 Axes>"
      ]
     },
     "metadata": {},
     "output_type": "display_data"
    },
    {
     "name": "stdout",
     "output_type": "stream",
     "text": [
      "Répartition (%):\n",
      "sentiment\n",
      "1    50.0\n",
      "0    50.0\n",
      "Name: proportion, dtype: float64\n"
     ]
    }
   ],
   "source": [
    "sns.countplot(data=df_sample, x='sentiment')\n",
    "plt.title(\"Répartition des tweets par sentiment\")\n",
    "plt.xticks([0,1], ['Négatif', 'Positif'])\n",
    "plt.show()\n",
    "\n",
    "counts = df_sample['sentiment'].value_counts(normalize=True)\n",
    "print(\"Répartition (%):\")\n",
    "print(counts * 100)\n"
   ]
  },
  {
   "cell_type": "markdown",
   "id": "10c04c5d",
   "metadata": {},
   "source": [
    "L'échantillon est effectivement équilibré."
   ]
  },
  {
   "cell_type": "markdown",
   "id": "a9a9e26e",
   "metadata": {},
   "source": [
    "## 2. Prétraitement du texte (nettoyage + stemming/lemmatisation)"
   ]
  },
  {
   "cell_type": "code",
   "execution_count": 5,
   "id": "947415b6",
   "metadata": {},
   "outputs": [
    {
     "name": "stderr",
     "output_type": "stream",
     "text": [
      "[nltk_data] Downloading package punkt to\n",
      "[nltk_data]     C:\\Users\\sandr\\AppData\\Roaming\\nltk_data...\n",
      "[nltk_data]   Package punkt is already up-to-date!\n",
      "[nltk_data] Downloading package wordnet to\n",
      "[nltk_data]     C:\\Users\\sandr\\AppData\\Roaming\\nltk_data...\n",
      "[nltk_data]   Package wordnet is already up-to-date!\n",
      "[nltk_data] Downloading package stopwords to\n",
      "[nltk_data]     C:\\Users\\sandr\\AppData\\Roaming\\nltk_data...\n",
      "[nltk_data]   Package stopwords is already up-to-date!\n",
      "[nltk_data]   Package wordnet is already up-to-date!\n",
      "[nltk_data] Downloading package stopwords to\n",
      "[nltk_data]     C:\\Users\\sandr\\AppData\\Roaming\\nltk_data...\n",
      "[nltk_data]   Package stopwords is already up-to-date!\n"
     ]
    }
   ],
   "source": [
    "# 🧹 Nettoyage des tweets avec stemming et lemmatisation\n",
    "# Nettoyage des tweets à partir du fichier brut\n",
    "# %pip install nltk\n",
    "\n",
    "import re\n",
    "import nltk\n",
    "from nltk.stem import PorterStemmer, WordNetLemmatizer\n",
    "from nltk.corpus import stopwords\n",
    "\n",
    "nltk.download('punkt')\n",
    "nltk.download('wordnet')\n",
    "nltk.download('stopwords')\n",
    "\n",
    "stemmer = PorterStemmer()\n",
    "lemmatizer = WordNetLemmatizer()\n",
    "stop_words = set(stopwords.words('english'))\n",
    "\n",
    "def clean_text(text, method='lemma'):\n",
    "    text = re.sub(r\"http\\S+|www\\S+|https\\S+\", '', text)\n",
    "    text = re.sub(r\"@\\w+|#\", '', text)\n",
    "    text = re.sub(r\"[^\\w\\s]\", '', text.lower())\n",
    "    words = nltk.word_tokenize(text)\n",
    "    words = [w for w in words if w not in stop_words]\n",
    "    if method == 'stem':\n",
    "        return ' '.join([stemmer.stem(w) for w in words])\n",
    "    else:\n",
    "        return ' '.join([lemmatizer.lemmatize(w) for w in words])\n",
    "\n",
    "# Application sur le jeu de données brut\n",
    "df_sample['text_stem'] = df_sample['text'].apply(lambda x: clean_text(x, 'stem'))\n",
    "df_sample['text_lemma'] = df_sample['text'].apply(lambda x: clean_text(x, 'lemma'))\n"
   ]
  },
  {
   "cell_type": "code",
   "execution_count": null,
   "id": "8f235ee4",
   "metadata": {},
   "outputs": [],
   "source": [
    "# 📦 Initialisation de MLflow enrichie pour suivi des performances et efficacité\n",
    "# import mlflow\n",
    "import mlflow.sklearn\n",
    "import time\n",
    "import os\n",
    "\n",
    "mlflow.set_experiment(\"air_paradis_sentiment\")\n",
    "\n",
    "def log_model_metrics(model, X_val, y_val, model_name, keras=False):\n",
    "    with mlflow.start_run(run_name=model_name):\n",
    "        start = time.time()\n",
    "        y_pred = model.predict(X_val)\n",
    "        elapsed = (time.time() - start) / X_val.shape[0] * 1000  # ms/sample\n",
    "\n",
    "        if y_pred.ndim > 1:\n",
    "            y_pred = y_pred.ravel()\n",
    "        y_pred_label = (y_pred > 0.5).astype(int)\n",
    "\n",
    "        from sklearn.metrics import accuracy_score, f1_score, recall_score\n",
    "        acc = accuracy_score(y_val, y_pred_label)\n",
    "        f1 = f1_score(y_val, y_pred_label)\n",
    "        rec = recall_score(y_val, y_pred_label)\n",
    "\n",
    "        mlflow.log_param(\"model_type\", model_name)\n",
    "        mlflow.log_metric(\"accuracy\", acc)\n",
    "        mlflow.log_metric(\"f1_score\", f1)\n",
    "        mlflow.log_metric(\"recall\", rec)\n",
    "        mlflow.log_metric(\"inference_time_ms\", elapsed)\n",
    "\n",
    "        import tempfile\n",
    "        if keras:\n",
    "            from tensorflow.keras.models import save_model\n",
    "            model_path = tempfile.mktemp(suffix=\".h5\")\n",
    "            save_model(model, model_path)\n",
    "        else:\n",
    "            import joblib\n",
    "            model_path = tempfile.mktemp(suffix=\".pkl\")\n",
    "            joblib.dump(model, model_path)\n",
    "\n",
    "        if os.path.exists(model_path):\n",
    "            size_mb = os.path.getsize(model_path) / 1024 / 1024\n",
    "            mlflow.log_metric(\"model_size_mb\", size_mb)\n",
    "            mlflow.log_artifact(model_path, artifact_path=\"models\")\n"
   ]
  },
  {
   "cell_type": "code",
   "execution_count": 7,
   "id": "873c2712",
   "metadata": {},
   "outputs": [],
   "source": [
    "import numpy as np\n",
    "from sklearn.metrics import accuracy_score, f1_score, recall_score\n",
    "import tempfile\n",
    "import os\n",
    "\n",
    "def eval_model_extended(model, X_val, y_val, model_name=\"Model\", keras=False, verbose=True):\n",
    "    if verbose:\n",
    "        print(f\"\\n📌 Évaluation du modèle : {model_name}\")\n",
    "        print(\"-\" * 37)\n",
    "\n",
    "    # ⚙️ Prédiction\n",
    "    y_pred = model.predict(X_val)\n",
    "\n",
    "    # 🔁 Conversion si nécessaire\n",
    "    if y_pred.ndim > 1:\n",
    "        y_pred = y_pred.ravel()\n",
    "    if keras:\n",
    "        y_pred = (y_pred > 0.5).astype(int)\n",
    "\n",
    "    # 📊 Métriques\n",
    "    acc = accuracy_score(y_val, y_pred)\n",
    "    f1 = f1_score(y_val, y_pred)\n",
    "    recall = recall_score(y_val, y_pred)\n",
    "\n",
    "    if verbose:\n",
    "        print(f\"✅ Accuracy : {acc:.4f}\")\n",
    "        print(f\"✅ F1-score : {f1:.4f}\")\n",
    "        print(f\"✅ Recall : {recall:.4f}\")\n",
    "\n",
    "    # 💾 Taille du modèle\n",
    "    try:\n",
    "        tmp_path = tempfile.mktemp(suffix=\".keras\" if keras else \".pkl\")\n",
    "        if keras:\n",
    "            model.save(tmp_path)  # Plus de `save_format` en Keras 3+\n",
    "        else:\n",
    "            import joblib\n",
    "            joblib.dump(model, tmp_path)\n",
    "\n",
    "        size_mb = os.path.getsize(tmp_path) / 1024 / 1024\n",
    "        os.remove(tmp_path)\n",
    "\n",
    "        if verbose:\n",
    "            print(f\"💾 Taille du modèle : {size_mb:.2f} Mo\")\n",
    "    except Exception as e:\n",
    "        if verbose:\n",
    "            print(\"❗ Le fichier de modèle n’a pas été généré. Impossible de mesurer sa taille.\")\n",
    "            print(f\"  Raison : {e}\")\n"
   ]
  },
  {
   "cell_type": "markdown",
   "id": "5a39b6b3",
   "metadata": {},
   "source": [
    "## 3.1 Baseline : TF-IDF + Régression Logistique"
   ]
  },
  {
   "cell_type": "markdown",
   "id": "a1115694",
   "metadata": {},
   "source": [
    "Paramétrer MLFlow pour stocker les résultats des tests  !!!"
   ]
  },
  {
   "cell_type": "code",
   "execution_count": 8,
   "id": "65c226ab",
   "metadata": {},
   "outputs": [
    {
     "name": "stdout",
     "output_type": "stream",
     "text": [
      "\n",
      "📌 Évaluation du modèle : TF-IDF + LogReg\n",
      "-------------------------------------\n",
      "✅ Accuracy : 0.7067\n",
      "✅ F1-score : 0.7105\n",
      "✅ Recall : 0.7200\n",
      "💾 Taille du modèle : 0.02 Mo\n"
     ]
    }
   ],
   "source": [
    "# 📊 TF-IDF + Régression Logistique\n",
    "from sklearn.feature_extraction.text import TfidfVectorizer\n",
    "from sklearn.linear_model import LogisticRegression\n",
    "\n",
    "# Vectorisation TF-IDF\n",
    "vectorizer = TfidfVectorizer(max_features=5000)\n",
    "X_tfidf = vectorizer.fit_transform(df_sample['text_lemma'])\n",
    "\n",
    "# Séparation\n",
    "from sklearn.model_selection import train_test_split\n",
    "X_train_vec, X_temp_vec, y_train, y_temp = train_test_split(X_tfidf, df_sample['sentiment'], test_size=0.3, stratify=df_sample['sentiment'], random_state=42)\n",
    "X_val_vec, X_test_vec, y_val, y_test = train_test_split(X_temp_vec, y_temp, test_size=0.5, stratify=y_temp, random_state=42)\n",
    "\n",
    "# Entraînement\n",
    "model = LogisticRegression(max_iter=200)\n",
    "model.fit(X_train_vec, y_train)\n",
    "\n",
    "# Évaluation\n",
    "eval_model_extended(model, X_val_vec, y_val, \"TF-IDF + LogReg\", keras=False)\n",
    "\n",
    "log_model_metrics(model, X_val_vec, y_val, \"TF-IDF + LogReg\", keras=False)\n"
   ]
  },
  {
   "cell_type": "code",
   "execution_count": 9,
   "id": "15325391",
   "metadata": {},
   "outputs": [],
   "source": [
    "# from sklearn.model_selection import train_test_split\n",
    "# from sklearn.feature_extraction.text import TfidfVectorizer\n",
    "# from sklearn.linear_model import LogisticRegression\n",
    "\n",
    "# # 🔢 Paramètres\n",
    "# # SAMPLE_SIZE = 10000  # à ajuster selon ta RAM\n",
    "# MAX_FEATURES = 5000\n",
    "\n",
    "# # 🎯 Échantillonnage stratifié\n",
    "# # df_sample, _ = train_test_split(\n",
    "# #     df,\n",
    "# #     train_size=SAMPLE_SIZE,\n",
    "# #     stratify=df['sentiment'],\n",
    "# #     random_state=42\n",
    "# # )\n",
    "\n",
    "# # 🧠 Vectorisation TF-IDF\n",
    "# vectorizer = TfidfVectorizer(max_features=MAX_FEATURES)\n",
    "# X_tfidf = vectorizer.fit_transform(df_sample['text_lemma'])\n",
    "# y = df_sample['sentiment']\n",
    "\n",
    "# # ✂️ Séparation train / val / test stratifiée\n",
    "# X_train_vec, X_temp_vec, y_train, y_temp = train_test_split(\n",
    "#     X_tfidf, y, test_size=0.3, stratify=y, random_state=42\n",
    "# )\n",
    "# X_val_vec, X_test_vec, y_val, y_test = train_test_split(\n",
    "#     X_temp_vec, y_temp, test_size=0.5, stratify=y_temp, random_state=42\n",
    "# )\n",
    "\n",
    "# # 🚀 Entraînement du modèle\n",
    "# model = LogisticRegression(max_iter=200)\n",
    "# model.fit(X_train_vec, y_train)\n",
    "\n",
    "# # 🧪 Évaluation\n",
    "# eval_model_extended(model, X_val_vec, y_val, \"TF-IDF + LogReg\", keras=False)\n",
    "# log_model_metrics(model, X_val_vec, y_val, \"TF-IDF + LogReg\", keras=False)\n"
   ]
  },
  {
   "cell_type": "code",
   "execution_count": null,
   "id": "cbc76f38",
   "metadata": {},
   "outputs": [],
   "source": []
  },
  {
   "cell_type": "markdown",
   "id": "06a2f598",
   "metadata": {},
   "source": [
    "## 3.2 Baseline : LSTM (Keras)"
   ]
  },
  {
   "cell_type": "code",
   "execution_count": 10,
   "id": "f8b493eb",
   "metadata": {},
   "outputs": [
    {
     "name": "stdout",
     "output_type": "stream",
     "text": [
      "WARNING:tensorflow:From C:\\Users\\sandr\\AppData\\Roaming\\Python\\Python310\\site-packages\\keras\\src\\losses.py:2976: The name tf.losses.sparse_softmax_cross_entropy is deprecated. Please use tf.compat.v1.losses.sparse_softmax_cross_entropy instead.\n",
      "\n",
      "WARNING:tensorflow:From C:\\Users\\sandr\\AppData\\Roaming\\Python\\Python310\\site-packages\\keras\\src\\backend.py:873: The name tf.get_default_graph is deprecated. Please use tf.compat.v1.get_default_graph instead.\n",
      "\n",
      "WARNING:tensorflow:From C:\\Users\\sandr\\AppData\\Roaming\\Python\\Python310\\site-packages\\keras\\src\\backend.py:873: The name tf.get_default_graph is deprecated. Please use tf.compat.v1.get_default_graph instead.\n",
      "\n",
      "WARNING:tensorflow:From C:\\Users\\sandr\\AppData\\Roaming\\Python\\Python310\\site-packages\\keras\\src\\optimizers\\__init__.py:309: The name tf.train.Optimizer is deprecated. Please use tf.compat.v1.train.Optimizer instead.\n",
      "\n",
      "WARNING:tensorflow:From C:\\Users\\sandr\\AppData\\Roaming\\Python\\Python310\\site-packages\\keras\\src\\optimizers\\__init__.py:309: The name tf.train.Optimizer is deprecated. Please use tf.compat.v1.train.Optimizer instead.\n",
      "\n",
      "Epoch 1/3\n",
      "Epoch 1/3\n",
      "WARNING:tensorflow:From C:\\Users\\sandr\\AppData\\Roaming\\Python\\Python310\\site-packages\\keras\\src\\utils\\tf_utils.py:492: The name tf.ragged.RaggedTensorValue is deprecated. Please use tf.compat.v1.ragged.RaggedTensorValue instead.\n",
      "\n",
      "WARNING:tensorflow:From C:\\Users\\sandr\\AppData\\Roaming\\Python\\Python310\\site-packages\\keras\\src\\utils\\tf_utils.py:492: The name tf.ragged.RaggedTensorValue is deprecated. Please use tf.compat.v1.ragged.RaggedTensorValue instead.\n",
      "\n",
      "WARNING:tensorflow:From C:\\Users\\sandr\\AppData\\Roaming\\Python\\Python310\\site-packages\\keras\\src\\engine\\base_layer_utils.py:384: The name tf.executing_eagerly_outside_functions is deprecated. Please use tf.compat.v1.executing_eagerly_outside_functions instead.\n",
      "\n",
      "WARNING:tensorflow:From C:\\Users\\sandr\\AppData\\Roaming\\Python\\Python310\\site-packages\\keras\\src\\engine\\base_layer_utils.py:384: The name tf.executing_eagerly_outside_functions is deprecated. Please use tf.compat.v1.executing_eagerly_outside_functions instead.\n",
      "\n",
      "6/6 [==============================] - 5s 236ms/step - loss: 0.6932 - accuracy: 0.5143 - val_loss: 0.6926 - val_accuracy: 0.5333\n",
      "Epoch 2/3\n",
      "6/6 [==============================] - 5s 236ms/step - loss: 0.6932 - accuracy: 0.5143 - val_loss: 0.6926 - val_accuracy: 0.5333\n",
      "Epoch 2/3\n",
      "6/6 [==============================] - 0s 73ms/step - loss: 0.6885 - accuracy: 0.6514 - val_loss: 0.6912 - val_accuracy: 0.5067\n",
      "Epoch 3/3\n",
      "6/6 [==============================] - 0s 73ms/step - loss: 0.6885 - accuracy: 0.6514 - val_loss: 0.6912 - val_accuracy: 0.5067\n",
      "Epoch 3/3\n",
      "6/6 [==============================] - 0s 81ms/step - loss: 0.6794 - accuracy: 0.6757 - val_loss: 0.6887 - val_accuracy: 0.5333\n",
      "6/6 [==============================] - 0s 81ms/step - loss: 0.6794 - accuracy: 0.6757 - val_loss: 0.6887 - val_accuracy: 0.5333\n",
      "\n",
      "📌 Évaluation du modèle : LSTM Baseline\n",
      "-------------------------------------\n",
      "\n",
      "📌 Évaluation du modèle : LSTM Baseline\n",
      "-------------------------------------\n",
      "5/5 [==============================] - 1s 8ms/step\n",
      "5/5 [==============================] - 1s 8ms/step\n",
      "✅ Accuracy : 0.5333\n",
      "✅ F1-score : 0.6392\n",
      "✅ Recall : 0.8267\n",
      "✅ Accuracy : 0.5333\n",
      "✅ F1-score : 0.6392\n",
      "✅ Recall : 0.8267\n",
      "💾 Taille du modèle : 15.05 Mo💾 Taille du modèle : 15.05 Mo\n",
      "1/5 [=====>........................] - ETA: 0s\n",
      "5/5 [==============================] - 0s 10ms/step\n",
      "5/5 [==============================] - 0s 10ms/step\n"
     ]
    },
    {
     "name": "stderr",
     "output_type": "stream",
     "text": [
      "C:\\Users\\sandr\\AppData\\Local\\Temp\\ipykernel_21284\\1609296360.py:34: UserWarning: You are saving your model as an HDF5 file via `model.save()`. This file format is considered legacy. We recommend using instead the native Keras format, e.g. `model.save('my_model.keras')`.\n",
      "  save_model(model, model_path)\n"
     ]
    }
   ],
   "source": [
    "# 📊 LSTM Baseline\n",
    "from tensorflow.keras.models import Sequential\n",
    "from tensorflow.keras.layers import Embedding, LSTM, Dense\n",
    "from tensorflow.keras.preprocessing.text import Tokenizer\n",
    "from tensorflow.keras.preprocessing.sequence import pad_sequences\n",
    "\n",
    "# Préparation des données\n",
    "tokenizer = Tokenizer(num_words=20000, oov_token='<OOV>')\n",
    "tokenizer.fit_on_texts(df_sample['text_lemma'])\n",
    "X_seq = tokenizer.texts_to_sequences(df_sample['text_lemma'])\n",
    "X_pad = pad_sequences(X_seq, maxlen=50)\n",
    "\n",
    "X_train, X_temp, y_train, y_temp = train_test_split(X_pad, df_sample['sentiment'], test_size=0.3, stratify=df_sample['sentiment'], random_state=42)\n",
    "X_val, X_test, y_val, y_test = train_test_split(X_temp, y_temp, test_size=0.5, stratify=y_temp, random_state=42)\n",
    "\n",
    "# Modèle LSTM\n",
    "model_lstm = Sequential([\n",
    "    Embedding(input_dim=20000, output_dim=64, input_length=50),\n",
    "    LSTM(64),\n",
    "    Dense(1, activation='sigmoid')\n",
    "])\n",
    "model_lstm.compile(optimizer='adam', loss='binary_crossentropy', metrics=['accuracy'])\n",
    "model_lstm.fit(X_train, y_train, validation_data=(X_val, y_val), epochs=3, batch_size=128)\n",
    "\n",
    "# Évaluation\n",
    "eval_model_extended(model_lstm, X_val, y_val, \"LSTM Baseline\", keras=True)\n",
    "\n",
    "log_model_metrics(model_lstm, X_val, y_val, \"LSTM Baseline\", keras=True)\n"
   ]
  },
  {
   "cell_type": "code",
   "execution_count": 11,
   "id": "4394eae5",
   "metadata": {},
   "outputs": [],
   "source": [
    "# from sklearn.model_selection import train_test_split\n",
    "# from tensorflow.keras.models import Sequential\n",
    "# from tensorflow.keras.layers import Embedding, LSTM, Dense\n",
    "# from tensorflow.keras.preprocessing.text import Tokenizer\n",
    "# from tensorflow.keras.preprocessing.sequence import pad_sequences\n",
    "# import psutil\n",
    "\n",
    "# # 🚦 Étape 1 : détection de la RAM et SAMPLE_SIZE\n",
    "# total_ram_gb = psutil.virtual_memory().total / 1024**3\n",
    "\n",
    "# if total_ram_gb < 4:\n",
    "#     SAMPLE_SIZE = 5000\n",
    "# elif total_ram_gb < 8:\n",
    "#     SAMPLE_SIZE = 10000\n",
    "# elif total_ram_gb < 12:\n",
    "#     SAMPLE_SIZE = 20000\n",
    "# else:\n",
    "#     SAMPLE_SIZE = 30000\n",
    "\n",
    "# print(f\"💡 RAM détectée : {total_ram_gb:.1f} Go - SAMPLE_SIZE sélectionné : {SAMPLE_SIZE}\")\n",
    "\n",
    "# 🔢 Paramètres\n",
    "# SAMPLE_SIZE = 10000  # à ajuster selon ta RAM\n",
    "# MAX_FEATURES = 5000\n",
    "\n",
    "# 🎯 Étape 2 : échantillonnage stratifié\n",
    "# df_sample_lstm, _ = train_test_split(\n",
    "#     df,\n",
    "#     train_size=SAMPLE_SIZE,\n",
    "#     stratify=df['sentiment'],\n",
    "#     random_state=42\n",
    "# )\n",
    "\n",
    "# # 🔤 Étape 3 : préparation des séquences\n",
    "# tokenizer = Tokenizer(num_words=20000, oov_token='<OOV>')\n",
    "# tokenizer.fit_on_texts(df_sample['text_lemma'])\n",
    "\n",
    "# X_seq = tokenizer.texts_to_sequences(df_sample['text_lemma'])\n",
    "# X_pad = pad_sequences(X_seq, maxlen=50)\n",
    "# # y = df_sample_lstm['sentiment']\n",
    "# y = df_sample['sentiment']\n",
    "\n",
    "# # ✂️ Étape 4 : split train / val / test\n",
    "# X_train, X_temp, y_train, y_temp = train_test_split(\n",
    "#     X_pad, y, test_size=0.3, stratify=y, random_state=42\n",
    "# )\n",
    "# X_val, X_test, y_val, y_test = train_test_split(\n",
    "#     X_temp, y_temp, test_size=0.5, stratify=y_temp, random_state=42\n",
    "# )\n",
    "\n",
    "# # 🧠 Étape 5 : Modèle LSTM\n",
    "# model_lstm = Sequential([\n",
    "#     Embedding(input_dim=20000, output_dim=64, input_length=50),\n",
    "#     LSTM(64),\n",
    "#     Dense(1, activation='sigmoid')\n",
    "# ])\n",
    "# model_lstm.compile(optimizer='adam', loss='binary_crossentropy', metrics=['accuracy'])\n",
    "\n",
    "# # 🚀 Étape 6 : Entraînement\n",
    "# model_lstm.fit(X_train, y_train, validation_data=(X_val, y_val), epochs=3, batch_size=128)\n",
    "\n",
    "# # 🧪 Étape 7 : Évaluation\n",
    "# eval_model_extended(model_lstm, X_val, y_val, \"LSTM Baseline\", keras=True)\n",
    "# log_model_metrics(model_lstm, X_val, y_val, \"LSTM Baseline\", keras=True)\n"
   ]
  },
  {
   "cell_type": "markdown",
   "id": "f3625e4c",
   "metadata": {},
   "source": [
    "LSTM tout seul = Fait\n",
    "LSTM + Word2Vec\n",
    "LSTM + Fastext\n"
   ]
  },
  {
   "cell_type": "markdown",
   "id": "e9cf663a",
   "metadata": {},
   "source": [
    "## 4. Embeddings Word2Vec, GloVe, FastText"
   ]
  },
  {
   "cell_type": "code",
   "execution_count": 12,
   "id": "05bb744d",
   "metadata": {},
   "outputs": [
    {
     "name": "stderr",
     "output_type": "stream",
     "text": [
      "[nltk_data] Downloading package punkt to\n",
      "[nltk_data]     C:\\Users\\sandr\\AppData\\Roaming\\nltk_data...\n",
      "[nltk_data]   Package punkt is already up-to-date!\n"
     ]
    }
   ],
   "source": [
    "# Si X_train contient des vecteurs → il faut retourner au texte\n",
    "# Exemple : on repart de la colonne text_lemma du DataFrame de base\n",
    "from gensim.models import Word2Vec\n",
    "import nltk\n",
    "nltk.download('punkt')\n",
    "\n",
    "X_train_idx, _, y_train, _ = train_test_split(df_sample.index, df_sample['sentiment'], test_size=0.3, stratify=df_sample['sentiment'], random_state=42)\n",
    "\n",
    "# Exemple : extraction du texte source\n",
    "X_train_text = df_sample.loc[X_train_idx, \"text_lemma\"]  # ou bien une version déjà séparée\n",
    "\n",
    "sentences = [text.split() for text in X_train_text]\n",
    "w2v_model = Word2Vec(sentences, vector_size=100, window=5, min_count=5, workers=4)\n",
    "w2v_model.save(input_path + \"models/word2vec.model\")\n"
   ]
  },
  {
   "cell_type": "markdown",
   "id": "1266dda9",
   "metadata": {},
   "source": [
    "### 4.1 Chargement des embeddings GloVe et FastText"
   ]
  },
  {
   "cell_type": "code",
   "execution_count": 13,
   "id": "cda81418",
   "metadata": {},
   "outputs": [
    {
     "name": "stdout",
     "output_type": "stream",
     "text": [
      "GloVe chargé : 400000 mots\n",
      "FastText chargé : 999995 mots\n"
     ]
    }
   ],
   "source": [
    "# 📚 Fonction utilitaire pour charger des embeddings externes (GloVe/FastText)\n",
    "import numpy as np\n",
    "\n",
    "def load_embedding(filepath):\n",
    "    embeddings_index = {}\n",
    "    with open(filepath, encoding='utf-8') as f:\n",
    "        for line in f:\n",
    "            values = line.strip().split()\n",
    "            word = values[0]\n",
    "            coefs = np.asarray(values[1:], dtype='float32')\n",
    "            embeddings_index[word] = coefs\n",
    "    return embeddings_index\n",
    "\n",
    "# Chemins vers les fichiers d'embedding\n",
    "glove_path = input_path + 'data/embeddings/glove.6B.100d.txt'\n",
    "fasttext_path = input_path + 'data/embeddings/wiki-news-300d-1M.vec'\n",
    "\n",
    "# Chargement\n",
    "glove_embeddings = load_embedding(glove_path)\n",
    "fasttext_embeddings = load_embedding(fasttext_path)\n",
    "\n",
    "print(f\"GloVe chargé : {len(glove_embeddings)} mots\")\n",
    "print(f\"FastText chargé : {len(fasttext_embeddings)} mots\")\n"
   ]
  },
  {
   "cell_type": "markdown",
   "id": "b4257273",
   "metadata": {},
   "source": [
    "## 5. Modèles Keras avec embeddings"
   ]
  },
  {
   "cell_type": "markdown",
   "id": "3785ccc6",
   "metadata": {},
   "source": [
    "### 5.1 Modèle Keras avec Word2Vec"
   ]
  },
  {
   "cell_type": "code",
   "execution_count": 14,
   "id": "227f93f5",
   "metadata": {},
   "outputs": [
    {
     "name": "stdout",
     "output_type": "stream",
     "text": [
      "Epoch 1/5\n",
      "6/6 [==============================] - 1s 56ms/step - loss: 0.6936 - accuracy: 0.4900 - val_loss: 0.6931 - val_accuracy: 0.5067\n",
      "Epoch 2/5\n",
      "6/6 [==============================] - 1s 56ms/step - loss: 0.6936 - accuracy: 0.4900 - val_loss: 0.6931 - val_accuracy: 0.5067\n",
      "Epoch 2/5\n",
      "6/6 [==============================] - 0s 23ms/step - loss: 0.6926 - accuracy: 0.5400 - val_loss: 0.6930 - val_accuracy: 0.5333\n",
      "Epoch 3/5\n",
      "6/6 [==============================] - 0s 23ms/step - loss: 0.6926 - accuracy: 0.5400 - val_loss: 0.6930 - val_accuracy: 0.5333\n",
      "Epoch 3/5\n",
      "6/6 [==============================] - 0s 27ms/step - loss: 0.6921 - accuracy: 0.5771 - val_loss: 0.6928 - val_accuracy: 0.5267\n",
      "Epoch 4/5\n",
      "6/6 [==============================] - 0s 27ms/step - loss: 0.6921 - accuracy: 0.5771 - val_loss: 0.6928 - val_accuracy: 0.5267\n",
      "Epoch 4/5\n",
      "6/6 [==============================] - 0s 26ms/step - loss: 0.6916 - accuracy: 0.5571 - val_loss: 0.6925 - val_accuracy: 0.5000\n",
      "Epoch 5/5\n",
      "6/6 [==============================] - 0s 26ms/step - loss: 0.6916 - accuracy: 0.5571 - val_loss: 0.6925 - val_accuracy: 0.5000\n",
      "Epoch 5/5\n",
      "6/6 [==============================] - 0s 28ms/step - loss: 0.6903 - accuracy: 0.5729 - val_loss: 0.6923 - val_accuracy: 0.5000\n",
      "6/6 [==============================] - 0s 28ms/step - loss: 0.6903 - accuracy: 0.5729 - val_loss: 0.6923 - val_accuracy: 0.5000\n",
      "\n",
      "📌 Évaluation du modèle : Word2Vec\n",
      "-------------------------------------\n",
      "\n",
      "📌 Évaluation du modèle : Word2Vec\n",
      "-------------------------------------\n",
      "5/5 [==============================] - 0s 288us/step\n",
      "5/5 [==============================] - 0s 288us/step\n",
      "✅ Accuracy : 0.5000\n",
      "✅ F1-score : 0.0000\n",
      "✅ Recall : 0.0000\n",
      "✅ Accuracy : 0.5000\n",
      "✅ F1-score : 0.0000\n",
      "✅ Recall : 0.0000\n",
      "💾 Taille du modèle : 14.72 Mo\n",
      "💾 Taille du modèle : 14.72 Mo\n",
      "5/5 [==============================] - 0s 2ms/step\n",
      "5/5 [==============================] - 0s 2ms/step\n"
     ]
    },
    {
     "name": "stderr",
     "output_type": "stream",
     "text": [
      "C:\\Users\\sandr\\AppData\\Local\\Temp\\ipykernel_21284\\1609296360.py:34: UserWarning: You are saving your model as an HDF5 file via `model.save()`. This file format is considered legacy. We recommend using instead the native Keras format, e.g. `model.save('my_model.keras')`.\n",
      "  save_model(model, model_path)\n"
     ]
    }
   ],
   "source": [
    "# 🧠 Construction du modèle Keras avec couche d'embedding\n",
    "# 📏 Padding des séquences textuelles à longueur fixe\n",
    "# 🔢 Tokenisation des textes pour entraînement LSTM ou Dense\n",
    "import tensorflow as tf\n",
    "from tensorflow.keras.models import Sequential\n",
    "from tensorflow.keras.layers import Embedding, GlobalAveragePooling1D, Dense, Dropout\n",
    "from tensorflow.keras.preprocessing.text import Tokenizer\n",
    "from tensorflow.keras.preprocessing.sequence import pad_sequences\n",
    "\n",
    "X = df_sample['text_lemma']\n",
    "y = df_sample['sentiment']\n",
    "\n",
    "X_train_text, X_temp, y_train, y_temp = train_test_split(X, y, test_size=0.3, stratify=y, random_state=42)\n",
    "X_val_text, X_test_text, y_val, y_test = train_test_split(X_temp, y_temp, test_size=0.5, stratify=y_temp, random_state=42)\n",
    "\n",
    "tokenizer = Tokenizer(num_words=20000, oov_token=\"<OOV>\")\n",
    "tokenizer.fit_on_texts(X_train_text)\n",
    "X_train_pad = pad_sequences(tokenizer.texts_to_sequences(X_train_text), maxlen=50)\n",
    "X_val_pad = pad_sequences(tokenizer.texts_to_sequences(X_val_text), maxlen=50)\n",
    "\n",
    "model_w2v = Sequential([\n",
    "    Embedding(20000, 64, input_length=50),\n",
    "    GlobalAveragePooling1D(),\n",
    "    Dense(64, activation='relu'),\n",
    "    Dropout(0.3),\n",
    "    Dense(1, activation='sigmoid')\n",
    "])\n",
    "model_w2v.compile(optimizer='adam', loss='binary_crossentropy', metrics=['accuracy'])\n",
    "model_w2v.fit(X_train_pad, y_train, validation_data=(X_val_pad, y_val), epochs=5, batch_size=128)\n",
    "\n",
    "eval_model_extended(model_w2v, X_val_pad, y_val, \"Word2Vec\", keras=True)\n",
    "log_model_metrics(model_w2v, X_val_pad, y_val, \"Word2Vec\", keras=True)\n"
   ]
  },
  {
   "cell_type": "code",
   "execution_count": 15,
   "id": "f88aca6d",
   "metadata": {},
   "outputs": [],
   "source": [
    "# from tensorflow.keras.preprocessing.text import Tokenizer\n",
    "# from tensorflow.keras.preprocessing.sequence import pad_sequences\n",
    "\n",
    "# # Initialisation du tokenizer\n",
    "# tokenizer = Tokenizer(num_words=20000, oov_token=\"<OOV>\")\n",
    "# tokenizer.fit_on_texts(X_train_text)  # X_train_text contient le texte brut\n",
    "\n",
    "# # Tokenisation + padding\n",
    "# X_train_seq = tokenizer.texts_to_sequences(X_train_text)\n",
    "# X_val_seq = tokenizer.texts_to_sequences(X_val_text)\n",
    "\n",
    "# X_train_pad = pad_sequences(X_train_seq, maxlen=50)\n",
    "# X_val_pad = pad_sequences(X_val_seq, maxlen=50)\n"
   ]
  },
  {
   "cell_type": "markdown",
   "id": "aa8c22f5",
   "metadata": {},
   "source": [
    "### 5.5 LSTM + Word2Vec"
   ]
  },
  {
   "cell_type": "code",
   "execution_count": 16,
   "id": "74733246",
   "metadata": {},
   "outputs": [
    {
     "name": "stdout",
     "output_type": "stream",
     "text": [
      "Epoch 1/3\n",
      "6/6 [==============================] - 3s 154ms/step - loss: 0.6935 - accuracy: 0.4957 - val_loss: 0.6932 - val_accuracy: 0.5000\n",
      "Epoch 2/3\n",
      "6/6 [==============================] - 3s 154ms/step - loss: 0.6935 - accuracy: 0.4957 - val_loss: 0.6932 - val_accuracy: 0.5000\n",
      "Epoch 2/3\n",
      "6/6 [==============================] - 0s 42ms/step - loss: 0.6931 - accuracy: 0.5000 - val_loss: 0.6931 - val_accuracy: 0.5000\n",
      "Epoch 3/3\n",
      "6/6 [==============================] - 0s 42ms/step - loss: 0.6931 - accuracy: 0.5000 - val_loss: 0.6931 - val_accuracy: 0.5000\n",
      "Epoch 3/3\n",
      "6/6 [==============================] - 0s 55ms/step - loss: 0.6930 - accuracy: 0.5000 - val_loss: 0.6930 - val_accuracy: 0.5000\n",
      "6/6 [==============================] - 0s 55ms/step - loss: 0.6930 - accuracy: 0.5000 - val_loss: 0.6930 - val_accuracy: 0.5000\n",
      "\n",
      "📌 Évaluation du modèle : LSTM + Word2Vec\n",
      "-------------------------------------\n",
      "\n",
      "📌 Évaluation du modèle : LSTM + Word2Vec\n",
      "-------------------------------------\n",
      "5/5 [==============================] - 1s 7ms/step\n",
      "5/5 [==============================] - 1s 7ms/step\n",
      "✅ Accuracy : 0.5000\n",
      "✅ F1-score : 0.0000\n",
      "✅ Recall : 0.0000\n",
      "💾 Taille du modèle : 1.38 Mo\n",
      "✅ Accuracy : 0.5000\n",
      "✅ F1-score : 0.0000\n",
      "✅ Recall : 0.0000\n",
      "💾 Taille du modèle : 1.38 Mo\n",
      "5/5 [==============================] - 0s 11ms/step\n",
      "5/5 [==============================] - 0s 11ms/step\n"
     ]
    },
    {
     "name": "stderr",
     "output_type": "stream",
     "text": [
      "C:\\Users\\sandr\\AppData\\Local\\Temp\\ipykernel_21284\\1609296360.py:34: UserWarning: You are saving your model as an HDF5 file via `model.save()`. This file format is considered legacy. We recommend using instead the native Keras format, e.g. `model.save('my_model.keras')`.\n",
      "  save_model(model, model_path)\n"
     ]
    }
   ],
   "source": [
    "# 📊 Modèle LSTM avec Word2Vec\n",
    "embedding_matrix = np.zeros((len(tokenizer.word_index) + 1, 100))\n",
    "for word, i in tokenizer.word_index.items():\n",
    "    if word in w2v_model.wv:\n",
    "        embedding_matrix[i] = w2v_model.wv[word]\n",
    "\n",
    "model_lstm_w2v = Sequential([\n",
    "    Embedding(input_dim=embedding_matrix.shape[0], output_dim=embedding_matrix.shape[1],\n",
    "              weights=[embedding_matrix], input_length=X_train_pad.shape[1], trainable=False),\n",
    "    LSTM(64),\n",
    "    Dense(1, activation='sigmoid')\n",
    "])\n",
    "model_lstm_w2v.compile(optimizer='adam', loss='binary_crossentropy', metrics=['accuracy'])\n",
    "model_lstm_w2v.fit(X_train_pad, y_train, validation_data=(X_val_pad, y_val), epochs=3, batch_size=128)\n",
    "\n",
    "eval_model_extended(model_lstm_w2v, X_val_pad, y_val, \"LSTM + Word2Vec\", keras=True)\n",
    "log_model_metrics(model_lstm_w2v, X_val_pad, y_val, \"LSTM + Word2Vec\", keras=True)\n"
   ]
  },
  {
   "cell_type": "markdown",
   "id": "e31bf1a6",
   "metadata": {},
   "source": [
    "### 5.6 LSTM + FastText"
   ]
  },
  {
   "cell_type": "code",
   "execution_count": 17,
   "id": "b1c51355",
   "metadata": {},
   "outputs": [],
   "source": [
    "# # Entrainement du modèle FastText\n",
    "# from gensim.models import FastText\n",
    "\n",
    "# sentences = [text.split() for text in X_train_text]  # liste de listes de mots\n",
    "# ft_model = FastText(sentences, vector_size=100, window=5, min_count=5, workers=4)\n"
   ]
  },
  {
   "cell_type": "code",
   "execution_count": 18,
   "id": "64a1dfa4",
   "metadata": {},
   "outputs": [],
   "source": [
    "# # 📊 Modèle LSTM avec FastText\n",
    "# embedding_dim = 300\n",
    "# embedding_matrix = np.zeros((len(tokenizer.word_index) + 1, embedding_dim))\n",
    "# for word, i in tokenizer.word_index.items():\n",
    "#     if word in ft_model:\n",
    "#         embedding_matrix[i] = ft_model[word]\n",
    "\n",
    "# model_lstm_ft = Sequential([\n",
    "#     Embedding(input_dim=embedding_matrix.shape[0], output_dim=embedding_matrix.shape[1],\n",
    "#               weights=[embedding_matrix], input_length=X_train_pad.shape[1], trainable=False),\n",
    "#     LSTM(64),\n",
    "#     Dense(1, activation='sigmoid')\n",
    "# ])\n",
    "# model_lstm_ft.compile(optimizer='adam', loss='binary_crossentropy', metrics=['accuracy'])\n",
    "# model_lstm_ft.fit(X_train_pad, y_train, validation_data=(X_val_pad, y_val), epochs=3, batch_size=128)\n",
    "\n",
    "# eval_model_extended(model_lstm_ft, X_val_pad, y_val, \"LSTM + FastText\", keras=True)\n",
    "# log_model_metrics(model_lstm_ft, X_val_pad, y_val, \"LSTM + FastText\", keras=True)\n"
   ]
  },
  {
   "cell_type": "code",
   "execution_count": 19,
   "id": "9a9869df",
   "metadata": {},
   "outputs": [
    {
     "name": "stdout",
     "output_type": "stream",
     "text": [
      "Epoch 1/3\n",
      "6/6 [==============================] - 3s 219ms/step - loss: 0.6934 - accuracy: 0.4771 - val_loss: 0.6932 - val_accuracy: 0.5000\n",
      "Epoch 2/3\n",
      "6/6 [==============================] - 3s 219ms/step - loss: 0.6934 - accuracy: 0.4771 - val_loss: 0.6932 - val_accuracy: 0.5000\n",
      "Epoch 2/3\n",
      "6/6 [==============================] - 0s 48ms/step - loss: 0.6933 - accuracy: 0.5000 - val_loss: 0.6932 - val_accuracy: 0.5000\n",
      "Epoch 3/3\n",
      "6/6 [==============================] - 0s 48ms/step - loss: 0.6933 - accuracy: 0.5000 - val_loss: 0.6932 - val_accuracy: 0.5000\n",
      "Epoch 3/3\n",
      "6/6 [==============================] - 0s 50ms/step - loss: 0.6932 - accuracy: 0.5000 - val_loss: 0.6932 - val_accuracy: 0.5000\n",
      "6/6 [==============================] - 0s 50ms/step - loss: 0.6932 - accuracy: 0.5000 - val_loss: 0.6932 - val_accuracy: 0.5000\n",
      "\n",
      "📌 Évaluation du modèle : LSTM + FastText (local)\n",
      "-------------------------------------\n",
      "\n",
      "📌 Évaluation du modèle : LSTM + FastText (local)\n",
      "-------------------------------------\n",
      "5/5 [==============================] - 1s 8ms/step\n",
      "5/5 [==============================] - 1s 8ms/step\n",
      "✅ Accuracy : 0.5000\n",
      "✅ F1-score : 0.0000\n",
      "✅ Recall : 0.0000\n",
      "💾 Taille du modèle : 1.38 Mo\n",
      "✅ Accuracy : 0.5000\n",
      "✅ F1-score : 0.0000\n",
      "✅ Recall : 0.0000\n",
      "💾 Taille du modèle : 1.38 Mo\n",
      "5/5 [==============================] - 0s 8ms/step\n",
      "5/5 [==============================] - 0s 8ms/step\n"
     ]
    },
    {
     "name": "stderr",
     "output_type": "stream",
     "text": [
      "C:\\Users\\sandr\\AppData\\Local\\Temp\\ipykernel_21284\\1609296360.py:34: UserWarning: You are saving your model as an HDF5 file via `model.save()`. This file format is considered legacy. We recommend using instead the native Keras format, e.g. `model.save('my_model.keras')`.\n",
      "  save_model(model, model_path)\n"
     ]
    }
   ],
   "source": [
    "# 📊 Modèle LSTM avec FastText (entraînement local)\n",
    "from gensim.models import FastText\n",
    "import numpy as np\n",
    "\n",
    "# 1. Entraînement du modèle FastText sur les données d'entraînement\n",
    "sentences = [text.split() for text in X_train_text]\n",
    "ft_model = FastText(sentences, vector_size=100, window=5, min_count=5, workers=4)\n",
    "\n",
    "# 2. Création de l'embedding matrix à partir du tokenizer\n",
    "embedding_dim = 100\n",
    "embedding_matrix = np.zeros((len(tokenizer.word_index) + 1, embedding_dim))\n",
    "for word, i in tokenizer.word_index.items():\n",
    "    if word in ft_model.wv:\n",
    "        embedding_matrix[i] = ft_model.wv[word]\n",
    "\n",
    "# 3. Création du modèle LSTM avec embedding FastText\n",
    "model_lstm_ft = Sequential([\n",
    "    Embedding(input_dim=embedding_matrix.shape[0], output_dim=embedding_matrix.shape[1],\n",
    "              weights=[embedding_matrix], input_length=X_train_pad.shape[1], trainable=False),\n",
    "    LSTM(64),\n",
    "    Dense(1, activation='sigmoid')\n",
    "])\n",
    "model_lstm_ft.compile(optimizer='adam', loss='binary_crossentropy', metrics=['accuracy'])\n",
    "model_lstm_ft.fit(X_train_pad, y_train, validation_data=(X_val_pad, y_val), epochs=3, batch_size=128)\n",
    "\n",
    "# 4. Évaluation et suivi MLflow\n",
    "eval_model_extended(model_lstm_ft, X_val_pad, y_val, \"LSTM + FastText (local)\", keras=True)\n",
    "log_model_metrics(model_lstm_ft, X_val_pad, y_val, \"LSTM + FastText (local)\", keras=True)\n"
   ]
  },
  {
   "cell_type": "markdown",
   "id": "481be718",
   "metadata": {},
   "source": [
    "### 5.0 Intégration GloVe et FastText dans Keras"
   ]
  },
  {
   "cell_type": "code",
   "execution_count": 20,
   "id": "b21b757f",
   "metadata": {},
   "outputs": [],
   "source": [
    "# 📚 Fonction utilitaire pour charger des embeddings externes (GloVe/FastText)\n",
    "import numpy as np\n",
    "\n",
    "# Fonction pour charger des embeddings pré-entraînés\n",
    "def load_embedding(filepath):\n",
    "    embeddings_index = {}\n",
    "    with open(filepath, encoding='utf-8') as f:\n",
    "        for line in f:\n",
    "            values = line.strip().split()\n",
    "            word = values[0]\n",
    "            coefs = np.asarray(values[1:], dtype='float32')\n",
    "            embeddings_index[word] = coefs\n",
    "    return embeddings_index\n",
    "\n",
    "# Charger GloVe\n",
    "glove_path = input_path + 'data/embeddings/glove.6B.100d.txt'\n",
    "glove_embeddings = load_embedding(glove_path)\n",
    "\n",
    "# Charger FastText\n",
    "fasttext_path = input_path + 'data/embeddings/wiki-news-300d-1M.vec'\n",
    "fasttext_embeddings = load_embedding(fasttext_path)\n"
   ]
  },
  {
   "cell_type": "code",
   "execution_count": 21,
   "id": "4394d1c7",
   "metadata": {},
   "outputs": [],
   "source": [
    "# Créer les matrices d'embedding pour notre vocabulaire\n",
    "embedding_dim_glove = 100\n",
    "embedding_dim_fasttext = 300\n",
    "word_index = tokenizer.word_index\n",
    "\n",
    "embedding_matrix_glove = np.zeros((20000, embedding_dim_glove))\n",
    "embedding_matrix_fasttext = np.zeros((20000, embedding_dim_fasttext))\n",
    "\n",
    "for word, i in word_index.items():\n",
    "    if i >= 20000:\n",
    "        continue\n",
    "    vec_g = glove_embeddings.get(word)\n",
    "    if vec_g is not None:\n",
    "        embedding_matrix_glove[i] = vec_g\n",
    "    vec_f = fasttext_embeddings.get(word)\n",
    "    if vec_f is not None:\n",
    "        embedding_matrix_fasttext[i] = vec_f\n"
   ]
  },
  {
   "cell_type": "markdown",
   "id": "a544e641",
   "metadata": {},
   "source": [
    "### 5.2 Modèle Keras avec GloVe"
   ]
  },
  {
   "cell_type": "code",
   "execution_count": 22,
   "id": "364868b3",
   "metadata": {},
   "outputs": [
    {
     "name": "stdout",
     "output_type": "stream",
     "text": [
      "Epoch 1/3\n",
      "6/6 [==============================] - 4s 196ms/step - loss: 0.6897 - accuracy: 0.5329 - val_loss: 0.6934 - val_accuracy: 0.4867\n",
      "Epoch 2/3\n",
      "6/6 [==============================] - 4s 196ms/step - loss: 0.6897 - accuracy: 0.5329 - val_loss: 0.6934 - val_accuracy: 0.4867\n",
      "Epoch 2/3\n",
      "6/6 [==============================] - 0s 56ms/step - loss: 0.6733 - accuracy: 0.5900 - val_loss: 0.6925 - val_accuracy: 0.5400\n",
      "Epoch 3/3\n",
      "6/6 [==============================] - 0s 56ms/step - loss: 0.6733 - accuracy: 0.5900 - val_loss: 0.6925 - val_accuracy: 0.5400\n",
      "Epoch 3/3\n",
      "6/6 [==============================] - 0s 68ms/step - loss: 0.6612 - accuracy: 0.6329 - val_loss: 0.6905 - val_accuracy: 0.5467\n",
      "6/6 [==============================] - 0s 68ms/step - loss: 0.6612 - accuracy: 0.6329 - val_loss: 0.6905 - val_accuracy: 0.5467\n",
      "\n",
      "📌 Évaluation du modèle : GloVe\n",
      "-------------------------------------\n",
      "\n",
      "📌 Évaluation du modèle : GloVe\n",
      "-------------------------------------\n",
      "5/5 [==============================] - 1s 8ms/step\n",
      "5/5 [==============================] - 1s 8ms/step\n",
      "✅ Accuracy : 0.5467\n",
      "✅ F1-score : 0.5584\n",
      "✅ Recall : 0.5733\n",
      "💾 Taille du modèle : 8.14 Mo\n",
      "✅ Accuracy : 0.5467\n",
      "✅ F1-score : 0.5584\n",
      "✅ Recall : 0.5733\n",
      "💾 Taille du modèle : 8.14 Mo\n",
      "5/5 [==============================] - 0s 9ms/step\n",
      "5/5 [==============================] - 0s 9ms/step\n"
     ]
    },
    {
     "name": "stderr",
     "output_type": "stream",
     "text": [
      "C:\\Users\\sandr\\AppData\\Local\\Temp\\ipykernel_21284\\1609296360.py:34: UserWarning: You are saving your model as an HDF5 file via `model.save()`. This file format is considered legacy. We recommend using instead the native Keras format, e.g. `model.save('my_model.keras')`.\n",
      "  save_model(model, model_path)\n"
     ]
    }
   ],
   "source": [
    "# 📊 Modèle Keras avec GloVe\n",
    "model_glove = Sequential([\n",
    "    Embedding(input_dim=embedding_matrix_glove.shape[0], output_dim=embedding_matrix_glove.shape[1],\n",
    "              weights=[embedding_matrix_glove], input_length=X_pad.shape[1], trainable=False),\n",
    "    LSTM(64),\n",
    "    Dense(1, activation='sigmoid')\n",
    "])\n",
    "model_glove.compile(optimizer='adam', loss='binary_crossentropy', metrics=['accuracy'])\n",
    "model_glove.fit(X_train, y_train, validation_data=(X_val, y_val), epochs=3, batch_size=128)\n",
    "\n",
    "# Évaluation\n",
    "eval_model_extended(model_glove, X_val, y_val, \"GloVe\", keras=True)\n",
    "\n",
    "log_model_metrics(model_glove, X_val, y_val, \"GloVe\", keras=True)\n"
   ]
  },
  {
   "cell_type": "markdown",
   "id": "8909827e",
   "metadata": {},
   "source": [
    "### 5.3 Modèle Keras avec FastText"
   ]
  },
  {
   "cell_type": "code",
   "execution_count": 23,
   "id": "7f886642",
   "metadata": {},
   "outputs": [
    {
     "name": "stdout",
     "output_type": "stream",
     "text": [
      "Epoch 1/3\n",
      "6/6 [==============================] - 5s 240ms/step - loss: 0.6946 - accuracy: 0.5043 - val_loss: 0.6930 - val_accuracy: 0.5133\n",
      "Epoch 2/3\n",
      "6/6 [==============================] - 5s 240ms/step - loss: 0.6946 - accuracy: 0.5043 - val_loss: 0.6930 - val_accuracy: 0.5133\n",
      "Epoch 2/3\n",
      "6/6 [==============================] - 0s 59ms/step - loss: 0.6861 - accuracy: 0.5571 - val_loss: 0.6913 - val_accuracy: 0.5400\n",
      "Epoch 3/3\n",
      "6/6 [==============================] - 0s 59ms/step - loss: 0.6861 - accuracy: 0.5571 - val_loss: 0.6913 - val_accuracy: 0.5400\n",
      "Epoch 3/3\n",
      "6/6 [==============================] - 0s 63ms/step - loss: 0.6799 - accuracy: 0.6086 - val_loss: 0.6896 - val_accuracy: 0.5267\n",
      "6/6 [==============================] - 0s 63ms/step - loss: 0.6799 - accuracy: 0.6086 - val_loss: 0.6896 - val_accuracy: 0.5267\n",
      "\n",
      "📌 Évaluation du modèle : FastText\n",
      "-------------------------------------\n",
      "\n",
      "📌 Évaluation du modèle : FastText\n",
      "-------------------------------------\n",
      "5/5 [==============================] - 1s 8ms/step\n",
      "5/5 [==============================] - 1s 8ms/step\n",
      "✅ Accuracy : 0.5267\n",
      "✅ F1-score : 0.4818\n",
      "✅ Recall : 0.4400\n",
      "✅ Accuracy : 0.5267\n",
      "✅ F1-score : 0.4818\n",
      "✅ Recall : 0.4400\n",
      "💾 Taille du modèle : 23.98 Mo\n",
      "1/5 [=====>........................] - ETA: 0s💾 Taille du modèle : 23.98 Mo\n",
      "5/5 [==============================] - 0s 12ms/step\n",
      "5/5 [==============================] - 0s 12ms/step\n"
     ]
    },
    {
     "name": "stderr",
     "output_type": "stream",
     "text": [
      "C:\\Users\\sandr\\AppData\\Local\\Temp\\ipykernel_21284\\1609296360.py:34: UserWarning: You are saving your model as an HDF5 file via `model.save()`. This file format is considered legacy. We recommend using instead the native Keras format, e.g. `model.save('my_model.keras')`.\n",
      "  save_model(model, model_path)\n"
     ]
    }
   ],
   "source": [
    "# 📊 Modèle Keras avec FastText\n",
    "model_fasttext = Sequential([\n",
    "    Embedding(input_dim=embedding_matrix_fasttext.shape[0], output_dim=embedding_matrix_fasttext.shape[1],\n",
    "              weights=[embedding_matrix_fasttext], input_length=X_pad.shape[1], trainable=False),\n",
    "    LSTM(64),\n",
    "    Dense(1, activation='sigmoid')\n",
    "])\n",
    "model_fasttext.compile(optimizer='adam', loss='binary_crossentropy', metrics=['accuracy'])\n",
    "model_fasttext.fit(X_train, y_train, validation_data=(X_val, y_val), epochs=3, batch_size=128)\n",
    "\n",
    "# Évaluation\n",
    "eval_model_extended(model_fasttext, X_val, y_val, \"FastText\", keras=True)\n",
    "\n",
    "log_model_metrics(model_fasttext, X_val, y_val, \"FastText\", keras=True)\n"
   ]
  },
  {
   "cell_type": "markdown",
   "id": "05ab0aa6",
   "metadata": {},
   "source": [
    "BERT avec Embedding + classification !!!"
   ]
  },
  {
   "cell_type": "code",
   "execution_count": null,
   "id": "b2c9e5cb",
   "metadata": {},
   "outputs": [],
   "source": []
  },
  {
   "cell_type": "markdown",
   "id": "f972d1f6",
   "metadata": {},
   "source": [
    "## 6. BERT - Fine-tuning HuggingFace"
   ]
  },
  {
   "cell_type": "code",
   "execution_count": 34,
   "id": "fbcebed2",
   "metadata": {},
   "outputs": [
    {
     "name": "stderr",
     "output_type": "stream",
     "text": [
      "c:\\Users\\sandr\\AppData\\Local\\Programs\\Python\\Python310\\lib\\site-packages\\tqdm\\auto.py:21: TqdmWarning: IProgress not found. Please update jupyter and ipywidgets. See https://ipywidgets.readthedocs.io/en/stable/user_install.html\n",
      "  from .autonotebook import tqdm as notebook_tqdm\n",
      "c:\\Users\\sandr\\AppData\\Local\\Programs\\Python\\Python310\\lib\\site-packages\\sklearn\\linear_model\\_logistic.py:465: ConvergenceWarning: lbfgs failed to converge (status=1):\n",
      "STOP: TOTAL NO. of ITERATIONS REACHED LIMIT.\n",
      "\n",
      "Increase the number of iterations (max_iter) or scale the data as shown in:\n",
      "    https://scikit-learn.org/stable/modules/preprocessing.html\n",
      "Please also refer to the documentation for alternative solver options:\n",
      "    https://scikit-learn.org/stable/modules/linear_model.html#logistic-regression\n",
      "  n_iter_i = _check_optimize_result(\n",
      "c:\\Users\\sandr\\AppData\\Local\\Programs\\Python\\Python310\\lib\\site-packages\\sklearn\\linear_model\\_logistic.py:465: ConvergenceWarning: lbfgs failed to converge (status=1):\n",
      "STOP: TOTAL NO. of ITERATIONS REACHED LIMIT.\n",
      "\n",
      "Increase the number of iterations (max_iter) or scale the data as shown in:\n",
      "    https://scikit-learn.org/stable/modules/preprocessing.html\n",
      "Please also refer to the documentation for alternative solver options:\n",
      "    https://scikit-learn.org/stable/modules/linear_model.html#logistic-regression\n",
      "  n_iter_i = _check_optimize_result(\n"
     ]
    },
    {
     "name": "stdout",
     "output_type": "stream",
     "text": [
      "Accuracy: 0.76\n",
      "              precision    recall  f1-score   support\n",
      "\n",
      "           0       0.77      0.75      0.76       100\n",
      "           1       0.75      0.77      0.76       100\n",
      "\n",
      "    accuracy                           0.76       200\n",
      "   macro avg       0.76      0.76      0.76       200\n",
      "weighted avg       0.76      0.76      0.76       200\n",
      "\n",
      "\n",
      "📌 Évaluation du modèle : BERT + LogisticRegression\n",
      "-------------------------------------\n",
      "✅ Accuracy : 0.7600\n",
      "✅ F1-score : 0.7624\n",
      "✅ Recall : 0.7700\n",
      "💾 Taille du modèle : 0.01 Mo\n"
     ]
    }
   ],
   "source": [
    "# 📊 BERT + Régression Logistique (embedding)\n",
    "from transformers import BertTokenizer, BertModel\n",
    "import torch\n",
    "from sklearn.linear_model import LogisticRegression\n",
    "from sklearn.metrics import classification_report, accuracy_score\n",
    "\n",
    "# Chargement du tokenizer et modèle BERT (non fine-tuné)\n",
    "tokenizer = BertTokenizer.from_pretrained('bert-base-uncased')\n",
    "bert_model = BertModel.from_pretrained('bert-base-uncased')\n",
    "\n",
    "def get_bert_embeddings(texts, tokenizer, model, max_len=64):\n",
    "    inputs = tokenizer(texts, padding=True, truncation=True, return_tensors=\"pt\", max_length=max_len)\n",
    "    with torch.no_grad():\n",
    "        outputs = model(**inputs)\n",
    "    return outputs.last_hidden_state[:, 0, :].numpy()  # CLS token\n",
    "\n",
    "# Pour accélérer la démo, on prend un échantillon réduit (ex : 5000 tweets)\n",
    "# sample_df = df.sample(5000, random_state=42)\n",
    "# X_bert = get_bert_embeddings(sample_df['text_lemma'].tolist(), tokenizer, bert_model)\n",
    "# y_bert = sample_df['sentiment'].values\n",
    "\n",
    "X_bert = get_bert_embeddings(df_sample['text_lemma'].tolist(), tokenizer, bert_model)\n",
    "y_bert = df_sample['sentiment'].values\n",
    "\n",
    "# Split + Modèle\n",
    "X_train, X_test, y_train, y_test = train_test_split(X_bert, y_bert, test_size=0.2, stratify=y_bert, random_state=42)\n",
    "model_bert = LogisticRegression(max_iter=(100)) # au lieu de 1000\n",
    "model_bert.fit(X_train, y_train)\n",
    "y_pred = model_bert.predict(X_test)\n",
    "\n",
    "# Évaluation\n",
    "# print(\"\\n📌 Évaluation du modèle : BERT + LogisticRegression\")\n",
    "# print(\"----------------------------------------\")\n",
    "print(\"Accuracy:\", accuracy_score(y_test, y_pred))\n",
    "print(classification_report(y_test, y_pred))\n",
    "\n",
    "# 🔍 Évaluation complète avec légèreté et performance\n",
    "eval_model_extended(model_bert, X_test, y_test, model_name=\"BERT + LogisticRegression\", keras=False)\n",
    "\n",
    "log_model_metrics(model_bert, X_test, y_test, \"BERT + LogisticRegression\", keras=False)\n"
   ]
  },
  {
   "cell_type": "code",
   "execution_count": 36,
   "id": "8d32bd39",
   "metadata": {},
   "outputs": [
    {
     "ename": "",
     "evalue": "",
     "output_type": "error",
     "traceback": [
      "\u001b[1;31mThe Kernel crashed while executing code in the current cell or a previous cell. \n",
      "\u001b[1;31mPlease review the code in the cell(s) to identify a possible cause of the failure. \n",
      "\u001b[1;31mClick <a href='https://aka.ms/vscodeJupyterKernelCrash'>here</a> for more info. \n",
      "\u001b[1;31mView Jupyter <a href='command:jupyter.viewOutput'>log</a> for further details."
     ]
    }
   ],
   "source": [
    "# 📊 BERT Embedding + Dense NN Classifier\n",
    "from transformers import BertTokenizer, BertModel\n",
    "import torch\n",
    "from tensorflow.keras.models import Sequential\n",
    "from tensorflow.keras.layers import Dense\n",
    "from sklearn.model_selection import train_test_split\n",
    "\n",
    "# Rechargement BERT si nécessaire\n",
    "tokenizer = BertTokenizer.from_pretrained('bert-base-uncased')\n",
    "bert_model = BertModel.from_pretrained('bert-base-uncased')\n",
    "\n",
    "def get_bert_embeddings(texts, tokenizer, model, max_len=64):\n",
    "    inputs = tokenizer(texts, padding=True, truncation=True, return_tensors=\"pt\", max_length=max_len)\n",
    "    with torch.no_grad():\n",
    "        outputs = model(**inputs)\n",
    "    return outputs.last_hidden_state[:, 0, :].numpy()  # vecteurs CLS\n",
    "\n",
    "# Extrait un sous-échantillon (sinon très long à calculer)\n",
    "# sample_df = df.sample(1000, random_state=42)\n",
    "# X_bert_embed = get_bert_embeddings(sample_df['text_lemma'].tolist(), tokenizer, bert_model)\n",
    "# y_bert_embed = sample_df['sentiment'].values\n",
    "\n",
    "X_bert_embed = get_bert_embeddings(df_sample['text_lemma'].tolist(), tokenizer, bert_model)\n",
    "y_bert_embed = df_sample['sentiment'].values\n",
    "\n",
    "# Split jeu\n",
    "X_train_b, X_val_b, y_train_b, y_val_b = train_test_split(X_bert_embed, y_bert_embed, test_size=0.2, stratify=y_bert_embed, random_state=42)\n",
    "\n",
    "# Modèle Keras simple\n",
    "model_bert_dense = Sequential([\n",
    "    Dense(64, activation='relu', input_shape=(768,)),\n",
    "    Dense(1, activation='sigmoid')\n",
    "])\n",
    "model_bert_dense.compile(optimizer='adam', loss='binary_crossentropy', metrics=['accuracy'])\n",
    "model_bert_dense.fit(X_train_b, y_train_b, validation_data=(X_val_b, y_val_b), epochs=3, batch_size=128)\n",
    "\n",
    "# Évaluation et log MLflow\n",
    "eval_model_extended(model_bert_dense, X_val_b, y_val_b, \"BERT + Dense\", keras=True)\n",
    "log_model_metrics(model_bert_dense, X_val_b, y_val_b, \"BERT + Dense\", keras=True)\n"
   ]
  },
  {
   "cell_type": "markdown",
   "id": "29d2b849",
   "metadata": {},
   "source": [
    "### 6.3 TFBertModel (Hugging Face) + Classification (Keras)"
   ]
  },
  {
   "cell_type": "code",
   "execution_count": 1,
   "id": "7145f2b1",
   "metadata": {},
   "outputs": [
    {
     "name": "stderr",
     "output_type": "stream",
     "text": [
      "c:\\Users\\sandr\\AppData\\Local\\Programs\\Python\\Python310\\lib\\site-packages\\tqdm\\auto.py:21: TqdmWarning: IProgress not found. Please update jupyter and ipywidgets. See https://ipywidgets.readthedocs.io/en/stable/user_install.html\n",
      "  from .autonotebook import tqdm as notebook_tqdm\n"
     ]
    },
    {
     "name": "stdout",
     "output_type": "stream",
     "text": [
      "WARNING:tensorflow:From C:\\Users\\sandr\\AppData\\Roaming\\Python\\Python310\\site-packages\\keras\\src\\losses.py:2976: The name tf.losses.sparse_softmax_cross_entropy is deprecated. Please use tf.compat.v1.losses.sparse_softmax_cross_entropy instead.\n",
      "\n",
      "WARNING:tensorflow:From C:\\Users\\sandr\\AppData\\Roaming\\Python\\Python310\\site-packages\\keras\\src\\backend.py:873: The name tf.get_default_graph is deprecated. Please use tf.compat.v1.get_default_graph instead.\n",
      "\n",
      "WARNING:tensorflow:From C:\\Users\\sandr\\AppData\\Roaming\\Python\\Python310\\site-packages\\keras\\src\\backend.py:873: The name tf.get_default_graph is deprecated. Please use tf.compat.v1.get_default_graph instead.\n",
      "\n"
     ]
    },
    {
     "name": "stderr",
     "output_type": "stream",
     "text": [
      "Some weights of the PyTorch model were not used when initializing the TF 2.0 model TFBertModel: ['cls.seq_relationship.bias', 'cls.seq_relationship.weight', 'cls.predictions.transform.LayerNorm.bias', 'cls.predictions.bias', 'cls.predictions.transform.LayerNorm.weight', 'cls.predictions.transform.dense.weight', 'cls.predictions.transform.dense.bias']\n",
      "- This IS expected if you are initializing TFBertModel from a PyTorch model trained on another task or with another architecture (e.g. initializing a TFBertForSequenceClassification model from a BertForPreTraining model).\n",
      "- This IS NOT expected if you are initializing TFBertModel from a PyTorch model that you expect to be exactly identical (e.g. initializing a TFBertForSequenceClassification model from a BertForSequenceClassification model).\n",
      "All the weights of TFBertModel were initialized from the PyTorch model.\n",
      "If your task is similar to the task the model of the checkpoint was trained on, you can already use TFBertModel for predictions without further training.\n",
      "All the weights of TFBertModel were initialized from the PyTorch model.\n",
      "If your task is similar to the task the model of the checkpoint was trained on, you can already use TFBertModel for predictions without further training.\n"
     ]
    },
    {
     "ename": "NameError",
     "evalue": "name 'df_sample' is not defined",
     "output_type": "error",
     "traceback": [
      "\u001b[1;31m---------------------------------------------------------------------------\u001b[0m",
      "\u001b[1;31mNameError\u001b[0m                                 Traceback (most recent call last)",
      "Cell \u001b[1;32mIn[1], line 23\u001b[0m\n\u001b[0;32m     16\u001b[0m     \u001b[38;5;28;01mreturn\u001b[39;00m outputs\u001b[38;5;241m.\u001b[39mnumpy()\n\u001b[0;32m     18\u001b[0m \u001b[38;5;66;03m# Échantillon\u001b[39;00m\n\u001b[0;32m     19\u001b[0m \u001b[38;5;66;03m# sample_df = df.sample(5000, random_state=42)\u001b[39;00m\n\u001b[0;32m     20\u001b[0m \u001b[38;5;66;03m# X_embed = get_tfbert_embeddings(sample_df['text_lemma'].tolist(), tokenizer, bert_model_tf)\u001b[39;00m\n\u001b[0;32m     21\u001b[0m \u001b[38;5;66;03m# y_embed = sample_df['sentiment'].values\u001b[39;00m\n\u001b[1;32m---> 23\u001b[0m X_embed \u001b[38;5;241m=\u001b[39m get_tfbert_embeddings(\u001b[43mdf_sample\u001b[49m[\u001b[38;5;124m'\u001b[39m\u001b[38;5;124mtext_lemma\u001b[39m\u001b[38;5;124m'\u001b[39m]\u001b[38;5;241m.\u001b[39mtolist(), tokenizer, bert_model_tf)\n\u001b[0;32m     24\u001b[0m y_embed \u001b[38;5;241m=\u001b[39m df_sample[\u001b[38;5;124m'\u001b[39m\u001b[38;5;124msentiment\u001b[39m\u001b[38;5;124m'\u001b[39m]\u001b[38;5;241m.\u001b[39mvalues\n\u001b[0;32m     26\u001b[0m \u001b[38;5;66;03m# Split\u001b[39;00m\n",
      "\u001b[1;31mNameError\u001b[0m: name 'df_sample' is not defined"
     ]
    }
   ],
   "source": [
    "# 📊 Embedding avec TFBertModel + classification Keras\n",
    "from transformers import TFBertModel, BertTokenizer\n",
    "import tensorflow as tf\n",
    "from tensorflow.keras.models import Sequential\n",
    "from tensorflow.keras.layers import Dense\n",
    "\n",
    "# Chargement du modèle et tokenizer Hugging Face\n",
    "tokenizer = BertTokenizer.from_pretrained('bert-base-uncased')\n",
    "bert_model_tf = TFBertModel.from_pretrained('bert-base-uncased')\n",
    "\n",
    "# Préparation des entrées BERT\n",
    "def get_tfbert_embeddings(texts, tokenizer, model, max_len=64):\n",
    "    inputs = tokenizer(texts, padding='max_length', truncation=True,\n",
    "                      return_tensors=\"tf\", max_length=max_len)\n",
    "    outputs = model(inputs)[0][:, 0, :]  # vecteur CLS\n",
    "    return outputs.numpy()\n",
    "\n",
    "# Échantillon\n",
    "# sample_df = df.sample(5000, random_state=42)\n",
    "# X_embed = get_tfbert_embeddings(sample_df['text_lemma'].tolist(), tokenizer, bert_model_tf)\n",
    "# y_embed = sample_df['sentiment'].values\n",
    "\n",
    "X_embed = get_tfbert_embeddings(df_sample['text_lemma'].tolist(), tokenizer, bert_model_tf)\n",
    "y_embed = df_sample['sentiment'].values\n",
    "\n",
    "# Split\n",
    "from sklearn.model_selection import train_test_split\n",
    "X_train_b, X_val_b, y_train_b, y_val_b = train_test_split(X_embed, y_embed, test_size=0.2, stratify=y_embed, random_state=42)\n",
    "\n",
    "# Modèle Keras (classification)\n",
    "model_tfbert_dense = Sequential([\n",
    "    Dense(64, activation='relu', input_shape=(768,)),\n",
    "    Dense(1, activation='sigmoid')\n",
    "])\n",
    "model_tfbert_dense.compile(optimizer='adam', loss='binary_crossentropy', metrics=['accuracy'])\n",
    "model_tfbert_dense.fit(X_train_b, y_train_b, validation_data=(X_val_b, y_val_b), epochs=3, batch_size=128)\n",
    "\n",
    "# Évaluation et log\n",
    "eval_model_extended(model_tfbert_dense, X_val_b, y_val_b, \"TFBertModel + Dense\", keras=True)\n",
    "log_model_metrics(model_tfbert_dense, X_val_b, y_val_b, \"TFBertModel + Dense\", keras=True)\n"
   ]
  },
  {
   "cell_type": "markdown",
   "id": "4f8e3549",
   "metadata": {},
   "source": [
    "## 8. Synthèse comparative des modèles"
   ]
  },
  {
   "cell_type": "code",
   "execution_count": 27,
   "id": "979b68f8",
   "metadata": {},
   "outputs": [],
   "source": [
    "# # 📊 Synthèse manuelle des performances à compléter après exécution\n",
    "# import pandas as pd\n",
    "\n",
    "# summary_data = [\n",
    "#     {\"Modèle\": \"TF-IDF + LogReg\", \"Accuracy\": 0.85, \"F1-score\": 0.84, \"Recall\": 0.85, \"Taille (Mo)\": 1.2, \"Inférence (ms)\": 0.8},\n",
    "#     {\"Modèle\": \"LSTM Baseline\", \"Accuracy\": 0.86, \"F1-score\": 0.85, \"Recall\": 0.86, \"Taille (Mo)\": 2.1, \"Inférence (ms)\": 1.2},\n",
    "#     {\"Modèle\": \"Word2Vec\", \"Accuracy\": 0.87, \"F1-score\": 0.86, \"Recall\": 0.87, \"Taille (Mo)\": 3.5, \"Inférence (ms)\": 1.5},\n",
    "#     {\"Modèle\": \"GloVe\", \"Accuracy\": 0.88, \"F1-score\": 0.87, \"Recall\": 0.88, \"Taille (Mo)\": 3.6, \"Inférence (ms)\": 1.6},\n",
    "#     {\"Modèle\": \"FastText\", \"Accuracy\": 0.87, \"F1-score\": 0.86, \"Recall\": 0.87, \"Taille (Mo)\": 4.0, \"Inférence (ms)\": 1.7},\n",
    "#     {\"Modèle\": \"BERT + LogisticRegression\", \"Accuracy\": 0.89, \"F1-score\": 0.88, \"Recall\": 0.89, \"Taille (Mo)\": 420.0, \"Inférence (ms)\": 2.1}\n",
    "#     # {\"Modèle\": \"USE\", ...},   # Idem\n",
    "# ]\n",
    "\n",
    "# df_summary = pd.DataFrame(summary_data)\n",
    "# df_summary = df_summary.set_index(\"Modèle\")\n",
    "# display(df_summary.sort_values(by=\"Accuracy\", ascending=False))\n"
   ]
  },
  {
   "cell_type": "code",
   "execution_count": 28,
   "id": "14db3d49",
   "metadata": {},
   "outputs": [],
   "source": [
    "# # 📊 Synthèse manuelle des performances à compléter après exécution\n",
    "# import pandas as pd\n",
    "\n",
    "# summary_data = [\n",
    "#     {\"Modèle\": \"TF-IDF + LogReg\", \"Accuracy\": 0.85, \"F1-score\": 0.84, \"Recall\": 0.85, \"Taille (Mo)\": 1.2, \"Inférence (ms)\": 0.8},\n",
    "#     {\"Modèle\": \"LSTM Baseline\", \"Accuracy\": 0.86, \"F1-score\": 0.85, \"Recall\": 0.86, \"Taille (Mo)\": 2.1, \"Inférence (ms)\": 1.2},\n",
    "#     {\"Modèle\": \"Word2Vec\", \"Accuracy\": 0.87, \"F1-score\": 0.86, \"Recall\": 0.87, \"Taille (Mo)\": 3.5, \"Inférence (ms)\": 1.5},\n",
    "#     {\"Modèle\": \"GloVe\", \"Accuracy\": 0.88, \"F1-score\": 0.87, \"Recall\": 0.88, \"Taille (Mo)\": 3.6, \"Inférence (ms)\": 1.6},\n",
    "#     {\"Modèle\": \"FastText\", \"Accuracy\": 0.87, \"F1-score\": 0.86, \"Recall\": 0.87, \"Taille (Mo)\": 4.0, \"Inférence (ms)\": 1.7},\n",
    "#     {\"Modèle\": \"BERT + LogisticRegression\", \"Accuracy\": 0.89, \"F1-score\": 0.88, \"Recall\": 0.89, \"Taille (Mo)\": 420.0, \"Inférence (ms)\": 2.1}\n",
    "#     {\"Modèle\": \"LSTM + Word2Vec\", \"Accuracy\": 0.88, \"F1-score\": 0.87, \"Recall\": 0.88, \"Taille (Mo)\": 2.8, \"Inférence (ms)\": 1.4},\n",
    "# {\"Modèle\": \"LSTM + FastText\", \"Accuracy\": 0.89, \"F1-score\": 0.88, \"Recall\": 0.89, \"Taille (Mo)\": 2.9, \"Inférence (ms)\": 1.5},\n",
    "# {\"Modèle\": \"BERT + Dense\", \"Accuracy\": 0.90, \"F1-score\": 0.89, \"Recall\": 0.90, \"Taille (Mo)\": 3.5, \"Inférence (ms)\": 2.3},\n",
    "# {\"Modèle\": \"TFBertModel + Dense\", \"Accuracy\": 0.91, \"F1-score\": 0.90, \"Recall\": 0.91, \"Taille (Mo)\": 4.2, \"Inférence (ms)\": 2.5},\n",
    "# # {\"Modèle\": \"USE\", ...},   # Idem\n",
    "# ]\n",
    "\n",
    "# df_summary = pd.DataFrame(summary_data)\n",
    "# df_summary = df_summary.set_index(\"Modèle\")\n",
    "# display(df_summary.sort_values(by=\"Accuracy\", ascending=False))\n"
   ]
  },
  {
   "cell_type": "markdown",
   "id": "9544f890",
   "metadata": {},
   "source": [
    "## 9. Synthèse comparative via MLflow"
   ]
  },
  {
   "cell_type": "code",
   "execution_count": 35,
   "id": "8d50caa2",
   "metadata": {},
   "outputs": [
    {
     "data": {
      "text/html": [
       "<div>\n",
       "<style scoped>\n",
       "    .dataframe tbody tr th:only-of-type {\n",
       "        vertical-align: middle;\n",
       "    }\n",
       "\n",
       "    .dataframe tbody tr th {\n",
       "        vertical-align: top;\n",
       "    }\n",
       "\n",
       "    .dataframe thead th {\n",
       "        text-align: right;\n",
       "    }\n",
       "</style>\n",
       "<table border=\"1\" class=\"dataframe\">\n",
       "  <thead>\n",
       "    <tr style=\"text-align: right;\">\n",
       "      <th></th>\n",
       "      <th>Model</th>\n",
       "      <th>Accuracy</th>\n",
       "      <th>F1-score</th>\n",
       "      <th>Recall</th>\n",
       "      <th>Size (MB)</th>\n",
       "      <th>Inference (ms)</th>\n",
       "    </tr>\n",
       "  </thead>\n",
       "  <tbody>\n",
       "    <tr>\n",
       "      <th>75</th>\n",
       "      <td>LSTM Baseline</td>\n",
       "      <td>0.799087</td>\n",
       "      <td>0.799479</td>\n",
       "      <td>0.801042</td>\n",
       "      <td>15.058296</td>\n",
       "      <td>0.269115</td>\n",
       "    </tr>\n",
       "    <tr>\n",
       "      <th>82</th>\n",
       "      <td>LSTM + FastText (local)</td>\n",
       "      <td>0.792200</td>\n",
       "      <td>0.798295</td>\n",
       "      <td>0.822417</td>\n",
       "      <td>129.677254</td>\n",
       "      <td>0.335439</td>\n",
       "    </tr>\n",
       "    <tr>\n",
       "      <th>83</th>\n",
       "      <td>LSTM + Word2Vec</td>\n",
       "      <td>0.795937</td>\n",
       "      <td>0.797162</td>\n",
       "      <td>0.801975</td>\n",
       "      <td>129.677254</td>\n",
       "      <td>0.305265</td>\n",
       "    </tr>\n",
       "    <tr>\n",
       "      <th>84</th>\n",
       "      <td>LSTM Baseline</td>\n",
       "      <td>0.797650</td>\n",
       "      <td>0.794551</td>\n",
       "      <td>0.782567</td>\n",
       "      <td>15.058296</td>\n",
       "      <td>0.328464</td>\n",
       "    </tr>\n",
       "    <tr>\n",
       "      <th>92</th>\n",
       "      <td>LSTM Baseline</td>\n",
       "      <td>0.796371</td>\n",
       "      <td>0.789321</td>\n",
       "      <td>0.762908</td>\n",
       "      <td>15.053310</td>\n",
       "      <td>0.290775</td>\n",
       "    </tr>\n",
       "    <tr>\n",
       "      <th>...</th>\n",
       "      <td>...</td>\n",
       "      <td>...</td>\n",
       "      <td>...</td>\n",
       "      <td>...</td>\n",
       "      <td>...</td>\n",
       "      <td>...</td>\n",
       "    </tr>\n",
       "    <tr>\n",
       "      <th>5</th>\n",
       "      <td>Word2Vec</td>\n",
       "      <td>0.500000</td>\n",
       "      <td>0.000000</td>\n",
       "      <td>0.000000</td>\n",
       "      <td>14.726967</td>\n",
       "      <td>0.641742</td>\n",
       "    </tr>\n",
       "    <tr>\n",
       "      <th>4</th>\n",
       "      <td>LSTM + Word2Vec</td>\n",
       "      <td>0.500000</td>\n",
       "      <td>0.000000</td>\n",
       "      <td>0.000000</td>\n",
       "      <td>1.388390</td>\n",
       "      <td>0.861837</td>\n",
       "    </tr>\n",
       "    <tr>\n",
       "      <th>3</th>\n",
       "      <td>LSTM + FastText (local)</td>\n",
       "      <td>0.500000</td>\n",
       "      <td>0.000000</td>\n",
       "      <td>0.000000</td>\n",
       "      <td>1.388390</td>\n",
       "      <td>0.980735</td>\n",
       "    </tr>\n",
       "    <tr>\n",
       "      <th>21</th>\n",
       "      <td>Word2Vec</td>\n",
       "      <td>0.500000</td>\n",
       "      <td>0.000000</td>\n",
       "      <td>0.000000</td>\n",
       "      <td>14.726967</td>\n",
       "      <td>0.642071</td>\n",
       "    </tr>\n",
       "    <tr>\n",
       "      <th>94</th>\n",
       "      <td>None</td>\n",
       "      <td>NaN</td>\n",
       "      <td>NaN</td>\n",
       "      <td>NaN</td>\n",
       "      <td>NaN</td>\n",
       "      <td>NaN</td>\n",
       "    </tr>\n",
       "  </tbody>\n",
       "</table>\n",
       "<p>95 rows × 6 columns</p>\n",
       "</div>"
      ],
      "text/plain": [
       "                      Model  Accuracy  F1-score    Recall   Size (MB)  \\\n",
       "75            LSTM Baseline  0.799087  0.799479  0.801042   15.058296   \n",
       "82  LSTM + FastText (local)  0.792200  0.798295  0.822417  129.677254   \n",
       "83          LSTM + Word2Vec  0.795937  0.797162  0.801975  129.677254   \n",
       "84            LSTM Baseline  0.797650  0.794551  0.782567   15.058296   \n",
       "92            LSTM Baseline  0.796371  0.789321  0.762908   15.053310   \n",
       "..                      ...       ...       ...       ...         ...   \n",
       "5                  Word2Vec  0.500000  0.000000  0.000000   14.726967   \n",
       "4           LSTM + Word2Vec  0.500000  0.000000  0.000000    1.388390   \n",
       "3   LSTM + FastText (local)  0.500000  0.000000  0.000000    1.388390   \n",
       "21                 Word2Vec  0.500000  0.000000  0.000000   14.726967   \n",
       "94                     None       NaN       NaN       NaN         NaN   \n",
       "\n",
       "    Inference (ms)  \n",
       "75        0.269115  \n",
       "82        0.335439  \n",
       "83        0.305265  \n",
       "84        0.328464  \n",
       "92        0.290775  \n",
       "..             ...  \n",
       "5         0.641742  \n",
       "4         0.861837  \n",
       "3         0.980735  \n",
       "21        0.642071  \n",
       "94             NaN  \n",
       "\n",
       "[95 rows x 6 columns]"
      ]
     },
     "metadata": {},
     "output_type": "display_data"
    }
   ],
   "source": [
    "# 📊 Synthèse automatique via MLflow des modèles testés\n",
    "import mlflow\n",
    "import pandas as pd\n",
    "\n",
    "client = mlflow.tracking.MlflowClient()\n",
    "experiment = mlflow.get_experiment_by_name(\"air_paradis_sentiment\")\n",
    "runs = client.search_runs(experiment_ids=[experiment.experiment_id], max_results=100)\n",
    "\n",
    "data = []\n",
    "for run in runs:\n",
    "    metrics = run.data.metrics\n",
    "    params = run.data.params\n",
    "    data.append({\n",
    "        \"Model\": params.get(\"model_type\"),\n",
    "        \"Accuracy\": metrics.get(\"accuracy\"),\n",
    "        \"F1-score\": metrics.get(\"f1_score\"),\n",
    "        \"Recall\": metrics.get(\"recall\"),\n",
    "        \"Size (MB)\": metrics.get(\"model_size_mb\"),\n",
    "        \"Inference (ms)\": metrics.get(\"inference_time_ms\")\n",
    "    })\n",
    "\n",
    "df_mlflow_summary = pd.DataFrame(data).sort_values(by=\"F1-score\", ascending=False)\n",
    "display(df_mlflow_summary)\n"
   ]
  },
  {
   "cell_type": "code",
   "execution_count": 30,
   "id": "9a26fe03",
   "metadata": {},
   "outputs": [],
   "source": [
    "# import tensorflow as tf\n",
    "# print (tf.__version__)\n"
   ]
  },
  {
   "cell_type": "code",
   "execution_count": 31,
   "id": "9edb541c",
   "metadata": {},
   "outputs": [],
   "source": [
    "# tf.test.is_built_with_cuda()\n"
   ]
  },
  {
   "cell_type": "code",
   "execution_count": 32,
   "id": "5f83be07",
   "metadata": {},
   "outputs": [],
   "source": [
    "# # 🔍 Vérification de l'installation CUDA et détection GPU avec TensorFlow\n",
    "# import tensorflow as tf\n",
    "# print(\"🧠 Version TensorFlow :\", tf.__version__)\n",
    "# gpus = tf.config.list_physical_devices('GPU')\n",
    "# if gpus:\n",
    "#     print(f'🚀 GPU détecté : {gpus}')\n",
    "# else:\n",
    "#     print('❌ Aucun GPU détecté par TensorFlow.')\n",
    "\n",
    "# # Affiche les informations CUDA/cuDNN si disponibles\n",
    "# try:\n",
    "#     from tensorflow.python.platform import build_info as tf_build_info\n",
    "#     print('CUDA version:', getattr(tf_build_info, 'cuda_version', 'N/A'))\n",
    "#     print('cuDNN version:', getattr(tf_build_info, 'cudnn_version', 'N/A'))\n",
    "# except ImportError:\n",
    "#     print('Impossible d\\'obtenir les versions CUDA/cuDNN via TensorFlow.')\n"
   ]
  },
  {
   "cell_type": "code",
   "execution_count": 33,
   "id": "06edafb7",
   "metadata": {},
   "outputs": [],
   "source": [
    "# import tensorflow as tf\n",
    "# print(\"GPUs:\", tf.config.list_physical_devices('GPU'))\n",
    "# print(\"Built with CUDA:\", tf.test.is_built_with_cuda())\n",
    "# print(\"CUDA version:\", tf.sysconfig.get_build_info().get('cuda_version', 'N/A'))\n",
    "# print(\"cuDNN version:\", tf.sysconfig.get_build_info().get('cudnn_version', 'N/A'))\n"
   ]
  }
 ],
 "metadata": {
  "kernelspec": {
   "display_name": "Python 3",
   "language": "python",
   "name": "python3"
  },
  "language_info": {
   "codemirror_mode": {
    "name": "ipython",
    "version": 3
   },
   "file_extension": ".py",
   "mimetype": "text/x-python",
   "name": "python",
   "nbconvert_exporter": "python",
   "pygments_lexer": "ipython3",
   "version": "3.10.0"
  }
 },
 "nbformat": 4,
 "nbformat_minor": 5
}
