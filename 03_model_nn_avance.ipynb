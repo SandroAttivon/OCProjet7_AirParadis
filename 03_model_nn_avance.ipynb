{
 "cells": [
  {
   "cell_type": "markdown",
   "id": "c367eaf2",
   "metadata": {},
   "source": [
    "# 🧠 03 - Modèle sur mesure avancé (Keras + embeddings)\n",
    "Ce notebook entraîne un modèle de deep learning simple pour la classification de sentiment."
   ]
  },
  {
   "cell_type": "code",
   "execution_count": null,
   "id": "c3551a51",
   "metadata": {},
   "outputs": [],
   "source": [
    "import pandas as pd\n",
    "import numpy as np\n",
    "import tensorflow as tf\n",
    "from tensorflow.keras.models import Sequential\n",
    "from tensorflow.keras.layers import Embedding, GlobalAveragePooling1D, Dense, Dropout\n",
    "from tensorflow.keras.preprocessing.text import Tokenizer\n",
    "from tensorflow.keras.preprocessing.sequence import pad_sequences\n",
    "from sklearn.model_selection import train_test_split\n",
    "from sklearn.metrics import classification_report\n",
    "import mlflow\n",
    "import mlflow.tensorflow"
   ]
  },
  {
   "cell_type": "markdown",
   "id": "ab0fab79",
   "metadata": {},
   "source": [
    "## 📥 Chargement des données nettoyées"
   ]
  },
  {
   "cell_type": "code",
   "execution_count": null,
   "id": "79851a4a",
   "metadata": {},
   "outputs": [],
   "source": [
    "df = pd.read_csv(\"../data/processed/tweets_clean.csv\")\n",
    "X = df['clean_text']\n",
    "y = df['sentiment']\n",
    "\n",
    "X_train, X_test, y_train, y_test = train_test_split(\n",
    "    X, y, test_size=0.2, stratify=y, random_state=42\n",
    ")"
   ]
  },
  {
   "cell_type": "markdown",
   "id": "ab0697da",
   "metadata": {},
   "source": [
    "## 🔠 Tokenisation et padding"
   ]
  },
  {
   "cell_type": "code",
   "execution_count": null,
   "id": "de64ce7c",
   "metadata": {},
   "outputs": [],
   "source": [
    "vocab_size = 20000\n",
    "max_len = 50\n",
    "\n",
    "tokenizer = Tokenizer(num_words=vocab_size, oov_token=\"<OOV>\")\n",
    "tokenizer.fit_on_texts(X_train)\n",
    "\n",
    "X_train_seq = tokenizer.texts_to_sequences(X_train)\n",
    "X_test_seq = tokenizer.texts_to_sequences(X_test)\n",
    "\n",
    "X_train_pad = pad_sequences(X_train_seq, maxlen=max_len, padding='post')\n",
    "X_test_pad = pad_sequences(X_test_seq, maxlen=max_len, padding='post')"
   ]
  },
  {
   "cell_type": "markdown",
   "id": "0e89ca3e",
   "metadata": {},
   "source": [
    "## 🧠 Construction du modèle Keras"
   ]
  },
  {
   "cell_type": "code",
   "execution_count": null,
   "id": "27d8b31a",
   "metadata": {},
   "outputs": [],
   "source": [
    "embedding_dim = 64\n",
    "\n",
    "with mlflow.start_run(run_name=\"NN_Keras_Embedding\"):\n",
    "\n",
    "    model = Sequential([\n",
    "        Embedding(input_dim=vocab_size, output_dim=embedding_dim, input_length=max_len),\n",
    "        GlobalAveragePooling1D(),\n",
    "        Dense(64, activation='relu'),\n",
    "        Dropout(0.5),\n",
    "        Dense(1, activation='sigmoid')\n",
    "    ])\n",
    "\n",
    "    model.compile(loss='binary_crossentropy', optimizer='adam', metrics=['accuracy'])\n",
    "\n",
    "    history = model.fit(\n",
    "        X_train_pad, y_train,\n",
    "        validation_split=0.1,\n",
    "        epochs=5,\n",
    "        batch_size=128,\n",
    "        verbose=2\n",
    "    )\n",
    "\n",
    "    loss, acc = model.evaluate(X_test_pad, y_test, verbose=0)\n",
    "    print(f\"✅ Test accuracy: {acc:.4f}\")\n",
    "\n",
    "    # Log via MLflow\n",
    "    mlflow.log_param(\"vocab_size\", vocab_size)\n",
    "    mlflow.log_param(\"embedding_dim\", embedding_dim)\n",
    "    mlflow.log_param(\"max_len\", max_len)\n",
    "    mlflow.log_metric(\"test_accuracy\", acc)\n",
    "    mlflow.tensorflow.log_model(model, \"model\")"
   ]
  },
  {
   "cell_type": "markdown",
   "id": "c7a64ee4",
   "metadata": {},
   "source": [
    "## 🧾 Évaluation du modèle"
   ]
  },
  {
   "cell_type": "code",
   "execution_count": null,
   "id": "e9091b68",
   "metadata": {},
   "outputs": [],
   "source": [
    "y_pred_probs = model.predict(X_test_pad)\n",
    "y_pred = (y_pred_probs > 0.5).astype(int)\n",
    "\n",
    "print(classification_report(y_test, y_pred))"
   ]
  }
 ],
 "metadata": {},
 "nbformat": 4,
 "nbformat_minor": 5
}